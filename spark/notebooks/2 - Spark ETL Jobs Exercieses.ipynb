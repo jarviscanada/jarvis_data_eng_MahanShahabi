{
 "cells": [
  {
   "cell_type": "markdown",
   "metadata": {
    "application/vnd.databricks.v1+cell": {
     "cellMetadata": {},
     "inputWidgets": {},
     "nuid": "9be60341-fe75-47c1-b33c-d7bacb1fe4ff",
     "showTitle": false,
     "tableResultSettingsMap": {},
     "title": ""
    }
   },
   "source": [
    "# Learning Objectives\n",
    "\n",
    "In this notebook, you will craft sophisticated ETL jobs that interface with a variety of common data sources, such as \n",
    "- REST APIs (HTTP endpoints)\n",
    "- RDBMS\n",
    "- Hive tables (managed tables)\n",
    "- Various file formats (csv, json, parquet, etc.)"
   ]
  },
  {
   "cell_type": "markdown",
   "metadata": {
    "application/vnd.databricks.v1+cell": {
     "cellMetadata": {},
     "inputWidgets": {},
     "nuid": "5d9fe8dc-6b2e-4499-8961-7e01309d05f1",
     "showTitle": false,
     "tableResultSettingsMap": {},
     "title": ""
    }
   },
   "source": [
    "d\n",
    "\n",
    "# Interview Questions\n",
    "\n",
    "As you progress through the practice, attempt to answer the following questions:\n",
    "\n",
    "## Columnar File\n",
    "- What is a columnar file format and what advantages does it offer?\n",
    "- Why is Parquet frequently used with Spark and how does it function?\n",
    "- How do you read/write data from/to a Parquet file using a DataFrame?\n",
    "\n",
    "## Partitions\n",
    "- How do you save data to a file system by partitions? (Hint: Provide the code)\n",
    "- How and why can partitions reduce query execution time? (Hint: Give an example)\n",
    "\n",
    "## JDBC and RDBMS\n",
    "- How do you load data from an RDBMS into Spark? (Hint: Discuss the steps and JDBC)\n",
    "\n",
    "## REST API and HTTP Requests\n",
    "- How can Spark be used to fetch data from a REST API? (Hint: Discuss making API requests)"
   ]
  },
  {
   "cell_type": "markdown",
   "metadata": {
    "application/vnd.databricks.v1+cell": {
     "cellMetadata": {},
     "inputWidgets": {},
     "nuid": "8c7f0dcb-2214-41ae-a6f4-12d5a34506ff",
     "showTitle": false,
     "tableResultSettingsMap": {},
     "title": ""
    }
   },
   "source": [
    "## ETL Job One: Parquet file\n",
    "### Extract\n",
    "Extract data from the managed tables (e.g. `bookings_csv`, `members_csv`, and `facilities_csv`)\n",
    "\n",
    "### Transform\n",
    "Data transformation requirements https://pgexercises.com/questions/aggregates/fachoursbymonth.html\n",
    "\n",
    "### Load\n",
    "Load data into a parquet file\n",
    "\n",
    "### What is Parquet? \n",
    "\n",
    "Columnar files are an important technique for optimizing Spark queries. Additionally, they are often tested in interviews.\n",
    "- https://www.youtube.com/watch?v=KLFadWdomyI\n",
    "- https://www.databricks.com/glossary/what-is-parquet"
   ]
  },
  {
   "cell_type": "code",
   "execution_count": 0,
   "metadata": {
    "application/vnd.databricks.v1+cell": {
     "cellMetadata": {
      "byteLimit": 2048000,
      "rowLimit": 10000
     },
     "inputWidgets": {},
     "nuid": "33324d02-bc67-4c31-b822-8fe8c69fead5",
     "showTitle": false,
     "tableResultSettingsMap": {},
     "title": ""
    }
   },
   "outputs": [],
   "source": [
    "# Write your solution here\n",
    "dbutils.fs.rm('/FileStore/tables/bookings.parquet', True)\n",
    "df = spark.read.format(\"csv\").option(\"header\", \"true\").option(\"inferSchema\", \"true\").load(\"/FileStore/tables/bookings.csv\")\n",
    "df.write.parquet('/FileStore/tables/bookings.parquet')\n",
    "\n",
    "dbutils.fs.rm('/FileStore/tables/facilities.parquet', True)\n",
    "df = spark.read.format(\"csv\").option(\"header\", \"true\").option(\"inferSchema\", \"true\").load(\"/FileStore/tables/facilities.csv\")\n",
    "df.write.parquet('/FileStore/tables/facilities.parquet')\n",
    "\n",
    "dbutils.fs.rm('/FileStore/tables/members.parquet', True)\n",
    "df = spark.read.format(\"csv\").option(\"header\", \"true\").option(\"inferSchema\", \"true\").load(\"/FileStore/tables/members.csv\")\n",
    "df.write.parquet('/FileStore/tables/members.parquet')"
   ]
  },
  {
   "cell_type": "markdown",
   "metadata": {
    "application/vnd.databricks.v1+cell": {
     "cellMetadata": {},
     "inputWidgets": {},
     "nuid": "b51d425e-d532-47e5-8cbf-a91ca78246b5",
     "showTitle": false,
     "tableResultSettingsMap": {},
     "title": ""
    }
   },
   "source": [
    "## ETL Job Two: Partitions\n",
    "\n",
    "### Extract\n",
    "Extract data from the managed tables (e.g. `bookings_csv`, `members_csv`, and `facilities_csv`)\n",
    "\n",
    "### Transform\n",
    "Transform the data https://pgexercises.com/questions/joins/threejoin.html\n",
    "\n",
    "### Load\n",
    "Partition the result data by facility column and then save to `threejoin_delta` managed table. Additionally, they are often tested in interviews.\n",
    "\n",
    "hint: https://spark.apache.org/docs/latest/api/python/reference/pyspark.sql/api/pyspark.sql.DataFrameWriter.partitionBy.html\n",
    "\n",
    "What are paritions? \n",
    "\n",
    "Partitions are an important technique to optimize Spark queries\n",
    "- https://www.youtube.com/watch?v=hvF7tY2-L3U&t=268s"
   ]
  },
  {
   "cell_type": "code",
   "execution_count": 0,
   "metadata": {
    "application/vnd.databricks.v1+cell": {
     "cellMetadata": {
      "byteLimit": 2048000,
      "rowLimit": 10000
     },
     "inputWidgets": {},
     "nuid": "32aea2ca-5178-4034-91ee-c09942c5f518",
     "showTitle": false,
     "tableResultSettingsMap": {},
     "title": ""
    }
   },
   "outputs": [],
   "source": [
    "# Write your solution here\n",
    "from pyspark.sql.types import StructType, StructField, IntegerType, TimestampType\n",
    "# Read CSV files into DataFrames\n",
    "bookings_df = spark.read.format(\"csv\").option(\"header\", \"true\").option(\"inferSchema\", \"true\").load(\"/FileStore/tables/bookings.csv\")\n",
    "facilities_df = spark.read.format(\"csv\").option(\"header\", \"true\").option(\"inferSchema\", \"true\").load(\"/FileStore/tables/facilities.csv\")\n",
    "members_df = spark.read.format(\"csv\").option(\"header\", \"true\").option(\"inferSchema\", \"true\").load(\"/FileStore/tables/members.csv\")\n",
    "\n",
    "# Perform joins\n",
    "result_df = bookings_df \\\n",
    "    .join(members_df, bookings_df[\"memid\"] == members_df[\"memid\"], \"inner\") \\\n",
    "    .join(facilities_df, bookings_df[\"facid\"] == facilities_df[\"facid\"], \"inner\")\n",
    "\n",
    "# Select relevant columns\n",
    "result_df = result_df.select(\n",
    "    facilities_df[\"name\"].alias(\"facility_name\"),\n",
    "    members_df[\"firstname\"].alias(\"member_firstname\"),\n",
    "    members_df[\"surname\"].alias(\"member_surname\"),\n",
    "    bookings_df[\"starttime\"],\n",
    "    bookings_df[\"slots\"]\n",
    ")\n",
    "\n",
    "# Save the DataFrame partitioned by 'facility_name' into a managed Delta table\n",
    "result_df.write.format(\"delta\") \\\n",
    "    .mode(\"overwrite\") \\\n",
    "    .partitionBy(\"facility_name\") \\\n",
    "    .saveAsTable(\"threejoin_delta\")"
   ]
  },
  {
   "cell_type": "markdown",
   "metadata": {
    "application/vnd.databricks.v1+cell": {
     "cellMetadata": {},
     "inputWidgets": {},
     "nuid": "7610de14-acd6-4374-945d-661dbc08a08e",
     "showTitle": false,
     "tableResultSettingsMap": {},
     "title": ""
    }
   },
   "source": [
    "## ETL Job Three: HTTP Requests\n",
    "\n",
    "### Extract\n",
    "Extract daily stock price data price from the following companies, Google, Apple, Microsoft, and Tesla. \n",
    "\n",
    "Data Source\n",
    "- API: https://rapidapi.com/alphavantage/api/alpha-vantage\n",
    "- Endpoint: GET `TIME_SERIES_DAILY`\n",
    "\n",
    "Sample HTTP request\n",
    "\n",
    "```\n",
    "curl --request GET \\\n",
    "\t--url 'https://alpha-vantage.p.rapidapi.com/query?function=TIME_SERIES_DAILY&symbol=TSLA&outputsize=compact&datatype=json' \\\n",
    "\t--header 'X-RapidAPI-Host: alpha-vantage.p.rapidapi.com' \\\n",
    "\t--header 'X-RapidAPI-Key: [YOUR_KEY]'\n",
    "\n",
    "```\n",
    "\n",
    "Sample Python HTTP request\n",
    "\n",
    "```\n",
    "import requests\n",
    "\n",
    "url = \"https://alpha-vantage.p.rapidapi.com/query\"\n",
    "\n",
    "querystring = {\n",
    "    \"function\":\"TIME_SERIES_DAILY\",\n",
    "    \"symbol\":\"IBM\",\n",
    "    \"datatype\":\"json\",\n",
    "    \"outputsize\":\"compact\"\n",
    "}\n",
    "\n",
    "headers = {\n",
    "    \"X-RapidAPI-Host\": \"alpha-vantage.p.rapidapi.com\",\n",
    "    \"X-RapidAPI-Key\": \"[YOUR_KEY]\"\n",
    "}\n",
    "\n",
    "response = requests.get(url, headers=headers, params=querystring)\n",
    "\n",
    "data = response.json()\n",
    "\n",
    "# Now 'data' contains the daily time series data for \"IBM\"\n",
    "```\n",
    "\n",
    "### Transform\n",
    "Find **weekly** max closing price for each company.\n",
    "\n",
    "hints: \n",
    "  - Use a `for-loop` to get stock data for each company\n",
    "  - Use the spark `union` operation to concat all data into one DF\n",
    "  - create a new `week` column from the data column\n",
    "  - use `group by` to calcualte max closing price\n",
    "\n",
    "### Load\n",
    "- Partition `DF` by company\n",
    "- Load the DF in to a managed table called, `max_closing_price_weekly`"
   ]
  },
  {
   "cell_type": "code",
   "execution_count": 0,
   "metadata": {
    "application/vnd.databricks.v1+cell": {
     "cellMetadata": {
      "byteLimit": 2048000,
      "rowLimit": 10000
     },
     "inputWidgets": {},
     "nuid": "7b76fcc5-fc12-4401-a16c-e24c4c890dd0",
     "showTitle": false,
     "tableResultSettingsMap": {},
     "title": ""
    }
   },
   "outputs": [],
   "source": [
    "# Write your solution here\n",
    "import requests\n",
    "from pyspark.sql import SparkSession\n",
    "from pyspark.sql.types import StructType, StructField, StringType, FloatType, DateType\n",
    "from pyspark.sql import Row\n",
    "from pyspark.sql.functions import weekofyear\n",
    "\n",
    "# Spark session\n",
    "spark = SparkSession.builder.appName(\"StockPriceETL\").getOrCreate()\n",
    "\n",
    "def fetch_stock_data(symbol):\n",
    "    url = \"https://alpha-vantage.p.rapidapi.com/query\"\n",
    "\n",
    "    querystring = {\n",
    "        \"function\":\"TIME_SERIES_DAILY\",\n",
    "        \"symbol\":symbol,\n",
    "        \"datatype\":\"json\",\n",
    "        \"outputsize\":\"compact\"\n",
    "    }\n",
    "\n",
    "    headers = {\n",
    "        \"X-RapidAPI-Host\": \"alpha-vantage.p.rapidapi.com\",\n",
    "        \"X-RapidAPI-Key\": \"df9ff107c1msh09c36f153034ef1p1b885djsnc02a719d3f61\"\n",
    "    }\n",
    "\n",
    "    response = requests.get(url, headers=headers, params=querystring)\n",
    "\n",
    "    data = response.json()\n",
    "\n",
    "def parse_stock_data(data, company):\n",
    "    rows = []\n",
    "    if data:\n",
    "        for date, values in data.items():\n",
    "            rows.append(Row(\n",
    "                company=company,\n",
    "                date=date,\n",
    "                close=float(values[\"4. close\"])\n",
    "            ))\n",
    "    return rows\n",
    "\n",
    "symbols = [\"GOOGL\", \"AAPL\", \"MSFT\", \"TSLA\"]\n",
    "\n",
    "stock_data = {}\n",
    "for symbol in symbols:\n",
    "    stock_data[symbol] = fetch_stock_data(symbol)\n",
    "\n",
    "all_rows = []\n",
    "for symbol, data in stock_data.items():\n",
    "    all_rows.extend(parse_stock_data(data, symbol))\n",
    "\n",
    "schema = StructType([\n",
    "    StructField(\"company\", StringType(), True),\n",
    "    StructField(\"date\", DateType(), True),\n",
    "    StructField(\"close\", FloatType(), True)\n",
    "])\n",
    "\n",
    "df = spark.createDataFrame(all_rows, schema)\n",
    "\n",
    "df = df.withColumn(\"week\", weekofyear(\"date\"))\n",
    "\n",
    "# Group by company and week to calculate the maximum closing price\n",
    "weekly_max_df = df.groupBy(\"company\", \"week\").max(\"close\").withColumnRenamed(\"max(close)\", \"max_closing_price\")\n",
    "\n",
    "# Save the DataFrame to a Delta table partitioned by company\n",
    "weekly_max_df.write.format(\"delta\") \\\n",
    "    .mode(\"overwrite\") \\\n",
    "    .partitionBy(\"company\") \\\n",
    "    .saveAsTable(\"max_closing_price_weekly\")\n"
   ]
  },
  {
   "cell_type": "markdown",
   "metadata": {
    "application/vnd.databricks.v1+cell": {
     "cellMetadata": {},
     "inputWidgets": {},
     "nuid": "37f98592-1f5f-4b42-9350-6720e69a7c22",
     "showTitle": false,
     "tableResultSettingsMap": {},
     "title": ""
    }
   },
   "source": [
    "## ETL Job Four: RDBMS\n",
    "\n",
    "\n",
    "### Extract\n",
    "Extract RNA data from a public PostgreSQL database.\n",
    "\n",
    "- https://rnacentral.org/help/public-database\n",
    "- Extract 100 RNA records from the `rna` table (hint: use `limit` in your sql)\n",
    "- hint: use `spark.read.jdbc` https://docs.databricks.com/external-data/jdbc.html\n",
    "\n",
    "### Transform\n",
    "We want to load the data as it so there is no transformation required.\n",
    "\n",
    "\n",
    "### Load\n",
    "Load the DF in to a managed table called, `rna_100_records`"
   ]
  },
  {
   "cell_type": "code",
   "execution_count": 0,
   "metadata": {
    "application/vnd.databricks.v1+cell": {
     "cellMetadata": {
      "byteLimit": 2048000,
      "rowLimit": 10000
     },
     "inputWidgets": {},
     "nuid": "3011d775-d108-4cb0-85d1-bf21ae1c23d4",
     "showTitle": false,
     "tableResultSettingsMap": {},
     "title": ""
    }
   },
   "outputs": [
    {
     "output_type": "display_data",
     "data": {
      "text/html": [
       "<style scoped>\n",
       "  .table-result-container {\n",
       "    max-height: 300px;\n",
       "    overflow: auto;\n",
       "  }\n",
       "  table, th, td {\n",
       "    border: 1px solid black;\n",
       "    border-collapse: collapse;\n",
       "  }\n",
       "  th, td {\n",
       "    padding: 5px;\n",
       "  }\n",
       "  th {\n",
       "    text-align: left;\n",
       "  }\n",
       "</style><div class='table-result-container'><table class='table-result'><thead style='background-color: white'><tr><th>id</th><th>upi</th><th>timestamp</th><th>userstamp</th><th>crc64</th><th>len</th><th>seq_short</th><th>seq_long</th><th>md5</th></tr></thead><tbody><tr><td>13137664</td><td>URS0000C87700</td><td>2017-10-19T09:48:29.391+0000</td><td>rnacen</td><td>CB4C22EE48FCACF8</td><td>401</td><td>TCTCTAAAGATTTCCTCAGGATAGGAGGAGCTCTTAAGAGATACCCAATTTAATGTAACAAAGCAAACAATTACAGATCTTGAGGCCAAATTGATCTCAAACTATTCTCAAACTTTAAATGGTTGAAAAAAAATCTTAAATTATTGGCAAAGAGCCAGAACTATATAATTAAACTGGCACTTTAAAATGATCCAAATGCCAGGTTACAGCTTTAAATGCTGAAGATTATCAGACCTCAGTAAATGCTGAAGATTATCAGGAACAGAGACTATGAATGCCACAATCTACTAAGGAGTGATAATAAGTTTCCTAACCTATCAACTAGCTTTGAAAATACATGGCATGCTGGGCGTGGTGGCTCATCCCTGTAATCCCAGCACTCAGGAGGCTGAGGCAGGAGA</td><td>null</td><td>f9b73ae9a16e4fc4abd1580d8f5232ba</td></tr><tr><td>13137665</td><td>URS0000C87701</td><td>2017-10-19T09:48:29.391+0000</td><td>rnacen</td><td>44DFBEB9AE09D9A5</td><td>276</td><td>CTGACATGTGTGCGAGTCAATGGGTGAGTAAACCCGTAGGGCGCAGGGAAGCTGATTGGCTGGATCCCTCACGGGTGCACACCCGACCGACCTTGATCTTCTGAGAAGGGTTCGAGTGTGAGCATGCCTGTCAGGACCCGAAAGATGGTGAACTATGCCTGAGAGAGGTGAAGCCAGAGGAAACTCTGGTGGAGGCCCGCAGCGATACTAACGTGTAAATCGTTCGTCTGACTTGGGTATAGGGGCGAAAGACTAATTGAACCATCTAGTATCTGG</td><td>null</td><td>f9b74e50196a4de5ddcff5e25b6f7143</td></tr><tr><td>13137666</td><td>URS0000C87702</td><td>2017-10-19T09:48:29.391+0000</td><td>rnacen</td><td>33D08150969C606F</td><td>83</td><td>GACCTCGTAGCTCAGTTGGCTAGAGCGTTGGCTGTATAAATGCCTTCCACTTGCTGACGTGGGTTCGAATCCCACCGAAGCTG</td><td>null</td><td>f9b753a0ad4a16c46b1bfd814e58e910</td></tr><tr><td>13137667</td><td>URS0000C87703</td><td>2017-10-19T09:48:29.391+0000</td><td>rnacen</td><td>7421F9491FDCCF6B</td><td>108</td><td>AATCCGTGGTGTGGACAGTCTCCCTGGAAGAACTTGAATCTGATCCACGCATCTTTGAAAGACTCTCCAGTCTCCTGCGCGAATGTAGCAATTTTGCTCCTCAAGTCT</td><td>null</td><td>f9b7640244649c22bf58add40673cd2c</td></tr><tr><td>13137668</td><td>URS0000C87704</td><td>2017-10-19T09:48:29.391+0000</td><td>rnacen</td><td>2ED895697DFBF83F</td><td>537</td><td>TTGAAGGAAAAACAGTTTTTTTCACTGCCAGTCCAGAGTTGCCCTTGCTCATTCTAAGAACAAGTTCACTCAGAAAAACTGTAAGAAAACAGTTGGCCAGACTGTCCTTTCTGCTGGAATAGCCTCCACTGAAAACACTACTACTACTTAAAAAAACCAAACCAACAAAACCCAATGCCTTAGAGTGCACTCATTGAGAAGTCTGATACATTTTTCTGAAGAAAGCGAAGTGTTCAAAGTTGGCTCGCCAACAGTGCACTCAGTCAGGAGCAACAGAATAGGACTCTGGCTCTTTTTTTTGGTTGTTTTTTGAAAGCAGGGCCATGATTAAGAGCATTGGCTGGGATCACTCATACTGTGCCACTTGAACTGGAATTCTTGGACCAGTGCAAGATGAACTAAAGCAAAAGCATTTGCCAAGACTGTTTTCATTAATCAAAACCAAAAGCTGGAGGGTTGTGGCCAACTCACTATCAGGTGGCATTGCTCCCATCACCCACCAGGAAGATCGCAGTACACCCAAGTTTTTGGGTTCTC</td><td>null</td><td>f9b79b7aa2a6b1f8adb6c05639fd9e2d</td></tr><tr><td>13137669</td><td>URS0000C87705</td><td>2017-10-19T09:48:29.392+0000</td><td>rnacen</td><td>42DC23FFB4E5D9F2</td><td>71</td><td>AGGGGCGTCGTTCAATGGTAGGACGGAGGTCTCCAAAACCTCTGACATAGGTTCGATTCCTATCGCCCCTG</td><td>null</td><td>f9b7ae34ced8d8e0c238ff79984b0cdf</td></tr><tr><td>13137670</td><td>URS0000C87706</td><td>2017-10-19T09:48:29.392+0000</td><td>rnacen</td><td>8C71D6D584C646A9</td><td>72</td><td>TCCCTGATAGCTCAGTTGGTAAAGAATCTGCCTGCAATACAGGAGACCCTGGTTCAATTCCTGGATGGGGAA</td><td>null</td><td>f9b7c687f973660c5d17050d1e03a499</td></tr><tr><td>13137671</td><td>URS0000C87707</td><td>2017-10-19T09:48:29.392+0000</td><td>rnacen</td><td>16A88A97D3267D7B</td><td>125</td><td>CATATACCCCCTCTGTCCGGAAATACTTGTCGGAGGAATAGATGTATCTAGATGTATTTTGGTTCTAGATACATTCATTTTTATCCATTTCTCCGACAAGTATTTTCGGACGGAGGGAGTACTAC</td><td>null</td><td>f9b7d0f0ccd4e954655cc76a4e20cf19</td></tr><tr><td>13137672</td><td>URS0000C87708</td><td>2017-10-19T09:48:29.392+0000</td><td>rnacen</td><td>7D0C5E535D9EF31B</td><td>270</td><td>GGTCAGTGATGATCAGTAAAAGGTCTGATTACCCACAATCCTCTCCTGCTGCCCTCTGGCTCCCAGCAGCCCCTGCTCTGTATCCCATCATGCTCTAGTGGTGCAGTGGTGGTCCCAGGAGCTGCTGACAGACAGGATGTGACATCACAGTGAGTCTGTACAGAGATCCTACAGGCTCTGTGTGATGTCATCCAACAGAACCAATCAGCATGGAGCGTCAGGCTGAGAAGGAGGAGGAGGGAGCTGATCTCAAGTTTTCAACCTGAGACC</td><td>null</td><td>f9b7d12c92646d2cbd367c29e294356a</td></tr><tr><td>13137673</td><td>URS0000C87709</td><td>2017-10-19T09:48:29.392+0000</td><td>rnacen</td><td>B086625FD080BAE2</td><td>118</td><td>AAGAGGGAACCCGGTGGAAGTCCGGGACTGCCCCGCAGCGGTGAGCGGGAACGACCGCCGTCACACGCACTGGCCCCGGAAGGGGGCTGGGAAGCGACGGCCACTAGGAGTCCGCCCT</td><td>null</td><td>f9b7dc9a710087c40dbf07df63b95665</td></tr><tr><td>13137674</td><td>URS0000C8770A</td><td>2017-10-19T09:48:29.392+0000</td><td>rnacen</td><td>3F51787AEACA6F2A</td><td>73</td><td>CCTCTGGTGGTCTTGTGGCTAAGATTCTGAGTTCCCAATGCAGGGGTCCCGGGTTCAATCCCTGGTCAGGGAA</td><td>null</td><td>f9b7f6d7635683e64524d26794af0a25</td></tr><tr><td>13137675</td><td>URS0000C8770B</td><td>2017-10-19T09:48:29.392+0000</td><td>rnacen</td><td>94ADF8A5653D4F23</td><td>71</td><td>GCGGTTATAAGTTAATGGTAAACCGAACGCCTTCCAAGCGTTTTATGTCGATTCGAATTCGGCTAACCGCA</td><td>null</td><td>f9b84253e9b9fd20081650441410bef5</td></tr><tr><td>13137676</td><td>URS0000C8770C</td><td>2017-10-19T09:48:29.392+0000</td><td>rnacen</td><td>CFD6380254AE5E20</td><td>107</td><td>AACCCATGGTGAGGGCATCTTCTCAAAAGGTCATTGTATCTCTCACATGCATCGTAGAGTGTTTCTCAATCCATCTGTACAAAAGAAGAGATATCATTACGTAATTT</td><td>null</td><td>f9b87f24224130025bd3df94f5dce61f</td></tr><tr><td>13137677</td><td>URS0000C8770D</td><td>2017-10-19T09:48:29.392+0000</td><td>rnacen</td><td>B44671E167215BD6</td><td>178</td><td>CAACATGACTCGGGGTGCTTGCCAGTTTTGGTCAGACAGCTTTTGGCGATTCGATGGTGTTTGCGTGATAGCGTTGAGCGTGTGTGCCATCGTATTGGGTTTAAAAGCAGCAAGCTGAGAGATACCCGTCGCACCTGATGCGGTTCGTACCGTCGTAGGGAAGTCTGGCGCGTTGTGA</td><td>null</td><td>f9b88b50c113797e10c17376535258f0</td></tr><tr><td>13137678</td><td>URS0000C8770E</td><td>2017-10-19T09:48:29.392+0000</td><td>rnacen</td><td>A4B864A51A803AFC</td><td>86</td><td>GGTAGCGTGGCCGAGCGGTCTAAGGCGCTGGCTTAAGGCTCCAGTCTCTTCGGGGGCGGTCGTGGGTTCGAATCCCACCGCTGCCA</td><td>null</td><td>f9b8b026ad39e65cf275da9dc680bc2b</td></tr><tr><td>13137679</td><td>URS0000C8770F</td><td>2017-10-19T09:48:29.392+0000</td><td>rnacen</td><td>DEF9FBD285C8E385</td><td>98</td><td>TAAAATTGTCATTGTAAGGGTGACGTTCGAAGTTGGTCAGGATCGGAAGATAGCAGCCATAAGAATCTAGTGCCTTGTACATTGACTTTTTTTATCTC</td><td>null</td><td>f9b8d4d3023ff9afff162c55442679ee</td></tr><tr><td>13137680</td><td>URS0000C87710</td><td>2017-10-19T09:48:29.392+0000</td><td>rnacen</td><td>D97E19753AA09D23</td><td>102</td><td>ATCACTTCTCAACCTTTTGGCTAAGATCAAGTGTAGTATCTGTTCTTATCAGAAAATACATTTTTCTTATCCATGCATGAAATATTCTCCAAAATAATCTAT</td><td>null</td><td>f9b8e8253fe49796112d460ba5714edd</td></tr><tr><td>13137681</td><td>URS0000C87711</td><td>2017-10-19T09:48:29.392+0000</td><td>rnacen</td><td>261EF23758176B5A</td><td>119</td><td>TAATTCAGCCATATCACCCTGCAACTCACAACTGGCAACCCACTGAAGCTAAGCAGGTGTGAGCCTGGTCAGTACCTGGATGGGAGACCTCCTGGGAAAAACTAAGGTTGCTGCTGGAA</td><td>null</td><td>f9b8f9513976a2fbdd64917d401a815c</td></tr><tr><td>13137682</td><td>URS0000C87712</td><td>2017-10-19T09:48:29.392+0000</td><td>rnacen</td><td>BF3A254213829BE9</td><td>73</td><td>ACGTTCGTGGTGTAGTGGTCAGCACACTCGGCGCGTATTCGAGAAGTCCGTGGTTCGAATCCCGGCGAGAGCA</td><td>null</td><td>f9b8fc9c6a68ed759a3febc025ce6e2c</td></tr><tr><td>13137683</td><td>URS0000C87713</td><td>2017-10-19T09:48:29.392+0000</td><td>rnacen</td><td>8452D2FF366DC7B6</td><td>94</td><td>GAAGATGATGATATTTATTGTCGCCCCAGTCTTACTTTGCATATATTCAATGTCTTCATGTGCAAAGTTGGTGATTGACATTCTTATCTGATTC</td><td>null</td><td>f9b91256c4e659e9b8a0aa56be52d436</td></tr><tr><td>13137684</td><td>URS0000C87714</td><td>2017-10-19T09:48:29.392+0000</td><td>rnacen</td><td>4A0759A2852303F9</td><td>135</td><td>CATCTACTCCCTCCGTCCGAAAATACTTGTCATCAAAATGAATAAAAGGGGATGTATGTAGATGTATTTTAGTTCTAGATACATCCCTTTTTGTCCATTTTAATGACAAGTATTTCCGGACGGAGGGAGTAGCTC</td><td>null</td><td>f9b91719c52581a5b8dc064e388a9f6d</td></tr><tr><td>13137685</td><td>URS0000C87715</td><td>2017-10-19T09:48:29.392+0000</td><td>rnacen</td><td>29274A28C578B6D7</td><td>45</td><td>ATACAGCTGACGAGTCCCAAATAGGACGAAATGCTCATTCTGGAT</td><td>null</td><td>f9b91963b9a70567f74ed4ec8bed11bc</td></tr><tr><td>13137686</td><td>URS0000C87716</td><td>2017-10-19T09:48:29.392+0000</td><td>rnacen</td><td>5AA6F4681C67BFA9</td><td>135</td><td>AAAGTACTCCCTCCGCCCCAAAATTCTTGTCTTAGATTTGTCTAGATACAGATGTATCAAGTCACATTTTACTATTAGATACATCCGTATCTAGACAAATCTAAGAGAGGAAATTTGGGACAGAGGGAGTAGTTG</td><td>null</td><td>f9b9698b7edb0ffd8a9fde62e7f60e16</td></tr><tr><td>13137687</td><td>URS0000C87717</td><td>2017-10-19T09:48:29.392+0000</td><td>rnacen</td><td>2B921CC3096228B9</td><td>74</td><td>GGCACCATGGCTTAGTTGGCTAAAGCACCAGCCTAGTAAGCAGGAGATCCTGGGTTCAACTCCCAGTGGTGCCT</td><td>null</td><td>f9b99f09a4a03b71cf8753c5e92cf28f</td></tr><tr><td>13137688</td><td>URS0000C87718</td><td>2017-10-19T09:48:29.392+0000</td><td>rnacen</td><td>8A30D779C082BFB1</td><td>136</td><td>ATTCTACTCCCTTCGTTGCACAATACATGCCTTCTATTTGTCAAAATATATATGTACCTAGACATGTTTTAGTATATAGGTACATCCATTTTTGGACAAATGGAAGTCAAGGATTTTGGAACGGAGGGAGTACACA</td><td>null</td><td>f9b9aae199f4f5a54bfb1b66113aee1b</td></tr><tr><td>13137689</td><td>URS0000C87719</td><td>2017-10-19T09:48:29.392+0000</td><td>rnacen</td><td>728665D9E94A0171</td><td>72</td><td>GAGGGTATGGCTCAGTGGTAGAGTGCATGCCTAGCATGCATGAGGTCCTAGGTTCAATCCCTCGTACTTCCA</td><td>null</td><td>f9b9bb5524e013d6131dc1737c590d5a</td></tr><tr><td>13137690</td><td>URS0000C8771A</td><td>2017-10-19T09:48:29.392+0000</td><td>rnacen</td><td>76A85A9EF81867AA</td><td>614</td><td>GCTAAACATCAACGCAGATGCCCTAAGGTTAACTCAAAGAGAACAGAAATCTCTTGTAGACCGAAAGGAGAAAAGTTAGCATTATTCGGATTTGTATCATCAATAAGAATTGCGAAAGCATGGCCTATCGATCCTTTAAGCCCAGAAAGATTCTGGCTAGAGGTGACGGAAAAGTTACCACAGGGATAACTGGCTTGTGGCAGCCAAGCGTTCATAGCGACGTTGCTTTTTGATCCTTCGATGTCGGCTCTTCCTATCATTGAGTTGCAGAAGTCTCAAAGTGTCGGATTGTTCACCCGTTAATAGGGAACGTGAGCTGGGTTTAGACCGTCGTGAGACAGGTTAGTTTTATCCTACTTATACACGCATCAAAAGAGTTAATCAACTTAGTACGAGAGGAACCGTTGATTCAAACCGCTGGTTAAGCGTTTGACTGTAAAGTCAAAGACGCAAAGCTACGTTTGATGGATAATGACTGAACGCCTCTAAGTCAAAATCCTAACTTGTGAAAAGATGTATTAGTCAGTAAAGGTTCGATACTAATATGAAAGACTTTACGATTAAATATGATATCAAAATACGATTGATACTCAAGTAGACGTTGTACATTTGAG</td><td>null</td><td>f9b9bed935652f9b989a572865c6c0a3</td></tr><tr><td>13137731</td><td>URS0000C87743</td><td>2017-10-19T09:48:29.407+0000</td><td>rnacen</td><td>BFD35B85CD3171F0</td><td>103</td><td>GGTGGAATTGCTGGGTAATATGGTAACTCTGTGTTTAACTTTTTGAAAAATTGCCAAGCTATTTTCCAAAGTAGATGTACCATTTTACATTCTCACCAGCAAT</td><td>null</td><td>f9bf10948e193f95058c4344a989a801</td></tr><tr><td>13137706</td><td>URS0000C8772A</td><td>2017-10-19T09:48:29.405+0000</td><td>rnacen</td><td>447D19ABF2396A47</td><td>204</td><td>GTCACGGGAACGTTAGTAGAATCATATTGCTGCCCTACTTCCGCCCATCGCCCGCCGCGCTGCTCTGCGAAAAGAAAATCCTGCGTTGGCCCGGTCCTTTCGGTTCCGGATTCCTCAGCCCCCAGCCCCCCGGGGCCGTCGGGATCGGGCCTGTACGCAGGGGAGTTGATCCCCAACACTGGGCCAACGAAAGTTGGTCCTTTT</td><td>null</td><td>f9bb2f4246b171488ba3ba3ab2e57a90</td></tr><tr><td>13137707</td><td>URS0000C8772B</td><td>2017-10-19T09:48:29.406+0000</td><td>rnacen</td><td>11F09B1C44CB0DB0</td><td>104</td><td>CTAATCGTAAATAAAATTTCTCGTATATCCTCGGTAATATGGTCCGAGTGTCTCTACCTAGTTCCCACGATAAGAACTGGACTACGAGTTGAAGTATTTGGTTG</td><td>null</td><td>f9bbfcf2d14068647291fa7bdfca248a</td></tr><tr><td>13137708</td><td>URS0000C8772C</td><td>2017-10-19T09:48:29.406+0000</td><td>rnacen</td><td>D6560F3C7A975199</td><td>72</td><td>TGGGGAGTCGCCAAGTGGTAAGGCAACGGACTTTGACTCCGTCACTCGTAGGTTCGATCCCTACCTCCCCAG</td><td>null</td><td>f9bc536531e3e8b1cb314b09cb77a893</td></tr><tr><td>13137709</td><td>URS0000C8772D</td><td>2017-10-19T09:48:29.406+0000</td><td>rnacen</td><td>0A11ED440AE21BD4</td><td>76</td><td>AAGCGAAACGTGAGGCCGCATTTTGCGACCTCACGTCTGCCGGGCGTGGCGACCCGGTACTGACGAGCAGCCATAA</td><td>null</td><td>f9bc5c18785f30a895d2371987dafa4f</td></tr><tr><td>13137710</td><td>URS0000C8772E</td><td>2017-10-19T09:48:29.406+0000</td><td>rnacen</td><td>D2A34038B709BE2D</td><td>73</td><td>ACCTGTCTAGCTTAGTCGGTAGAGTGCAAGGCTTTTAACCTTGTGGTCATGAGTTTGAGCCCCACGGTGAGTG</td><td>null</td><td>f9bc6595b58a792ca595246b77c74ddc</td></tr><tr><td>13137711</td><td>URS0000C8772F</td><td>2017-10-19T09:48:29.406+0000</td><td>rnacen</td><td>9B9D8A07C7B10972</td><td>2169</td><td>AACCTCGACTTCGGAAGGGGTGTATTTATTAGATAAAAAACCAATGCCCTTCGGGGCTCCTTGGTGATTCATAATAACTTAACGAATCGCATGGCCTTGTGCCGGCGATGGTTCATTCAAATTTCTGCCCTATCAACTTTCGATGGTATGGTCTTGGCTTACCATGGTTTCAACGGGTAACGGGGAATTAGGGTTCTATTCCGGAGAGGGAGCCTGAGAGACGGCTACCACATCCAAGGAAGGCAGCAGGCGCGCAAATTACCCAATCCCGACACGGGGAGGTAGTGACAATAAATACTGATACAGGGCTCTTTTGGGTCTTGTAATTGGAATGAGTACAATTTAAATCCCTTAACGAGGAACAATTGGAGGGCAAGTCTGGTGCCAGCAGCCGCGGTAATTCCAGCTCCAATAGCGTATATTAAAGTTGTTGCAGTTAAAAAGCTCGTAGTTGAACCTTGGGCCTGGCTGGCCGGTCCGCCTCACCGCGTGCACTGGTCCGGCCGGGTCTTTCCTTCTGAGGAGCCGCATGCCCTTCACTGGGTGTGTCGGGGAATCAGGACTTTTACTTTGAAAAAATTAGAGTGTTCAAAGCAGGCCTATGCTCGAATACATTAGCATGGAATAATAGAATAGGACGTGTGGTTCTATTTTGTTGGTTTCTAGGACCGCCGTAATGATTAATAGGGATAGTCGGGGGTGTCAGTATTAAATTGTCAGAGGTGAAATTCTTGGATTTATTTAAGACTAACTACTGCGAAAGCATTCACCAAGGATGTTTTCATTAATCAGTGAACGAAAGTTAGGGGATCGAAGACGATCAGATACCGTCGTAGTCTTAACCATAAACTATGCCGACTAGGGATCGGGCGATGTTATCTTTTTGACTCGCTCGGCACCTTACGAGAAATCAAAGTCTTTGGGTTCTGGGGGGAGTATGGTCGCAAGGCTGAAACTTAAAGAAATTGACGGAAGGGCACCACCAGGAGTCAAGATAGCTAAGCAGCTCTGCTCTGAAAAGCACCCCGAGAGGGTAGTGGTGTACCTGAATTTATAGTGCTAGTCAGTAATGGCAACACCCCCAAATTGCGGGGAACCCCTAATGCCCACGGTACTACACAGCGTCGAAAGGCCCTGCACGGTTACAATCCACGGGATGTTACAGTGGGTGATCCGCAGCTGTTCCCTACCGCTGAGAAGCTACGGGAATAGTTCAGAGACTAAATGGGAGTGGGAGGCAGTGCCTTTTAAGATATAGTCCGTCTGGAAGCTTACACTTGCAGAATCAACGGGAGCCTGCGGCTTAATTTGACTCAACACGGGGAAACTCACCAGGTCCAGACACAATAAGGATTGACAGATTGAGAGCTCTTTCTTGATTTTGTGGGTGGTGGTGCATGGCCGTTCTTAGTTGGTGGAGTGATTTGTCTGCTTAATTGCGATAACGAACGAGACCTTAACCTGCTAAATAGCCAGGCTAGCTTTGGCTGGTCGCCGGCTTCTTAGAGGGACTATCGGCTCAAGCCGATGGAAGTTTGAGGCAATAACAGGTTAACCTTCACAGGCCTGTGATAGGGAGGAGACTCCCCTAGTCAGTACTCAGTATTGGCAACATTCCTGGTACAGGAGACGCCGAGCCTTAGGGCCAGCCAATCCTGTGGCGAGTGAGCTATCTCACCGTCGCAACGCGCGGAAAGGAGTGGGCAGTTTAAGCTGTTTAAGGTACGTGCTAATCCACTGGGAAACCGGTCCGGTCCACTGAAGCTGCAGAGCTAAAGTGCCCTGGGAGTAGTCTACTACTTGGTCTAAATGCTGTGATGCCCTTAGATGTTCTGGGCCGCACGCGCGCTACACTGACAGAGCCAACGAGTTCCTTCCTTGACCGAAAGGTCTGGGTAATCTTGTTAAACTCTGTCGTGCTGGGGATAGAGCATTGCAATTATTGCTCTTCAACGAGGAATTCCTAGTAAGCGCAAGTCATCAGCTTGCGCTGATTACGTCCCTGCCCTTTGTACACACCGCCCGTCGCTACTACCGATTGAATGGCTCAGTGAGGCTTTCGGACTGGCCCAGATTGAGTGGCAACACTCGATTAGGGCCGGAAAGTTGTCCAAACTTGGTCATTTAGAGGAAGTAAAAGTCGTAACAAGGTTTTGCTAAGCAACAGTC</td><td>null</td><td>f9bc83b53d6c57a6743242f860c61324</td></tr><tr><td>13137712</td><td>URS0000C87730</td><td>2017-10-19T09:48:29.406+0000</td><td>rnacen</td><td>F351DAB976B8F2D5</td><td>3280</td><td>TCGCCTCAAATCAGGTAGGACTACCCGCTGAACTTAAGCATATCAATAAGCGGAGGAAAAGAAACCAACAGGGATTGCCTCAGTAACGGCGAGTGAAGCGGCAAGAGCTCAACTTTGGAATCGCTCCGGCGAGTTGTAGTCTGGAGGTGGCCACCACGAGGTGTTCTAGCAGCAGGCAAGTCCTTTGGAACAAGGCGCCAGCGAGGGTGACAGCCCCGTACCTGCTTTTGCTAGTGCTTCCTGTGGCCCACCGACGAGTCGAGTTGTTTGGGAATGCAGCTCTAAGTGGGTGGTAAATTCCATCTAAGGCTAAATATTGGCGAGAGACCGATAGCGAACAAGTACAGTGATGGAAAGATGAAAAGCACTTTGAAAAGAGAGTGAAACAGTACGTGAAATTGTTGAAAGGGAAGGGCTTGCACCCAGACACGGTTTCGGCCGGGCCAGCATCAAGTAGAACGGGGTTAAAAGACTTGGGGAATGTAGCTACTTCGGTAGTGTTATAGCCCTTGGTGATGACCCCTGTTTTGCTTGAGGACAGCGGTCTCTAGGATGCTGGCGCAATGGTTGCAAGCCACCCGTCTTGAAACACGGACCAAGGAGTCTAACGTCTATGCGAGTGTACGGGTGAAAAACCCCTGCGCGGAATGAAAGTAAGAGGTTGGAACCCTCTCGGGGGTGCACAATCGACCGACCCAGAAGTGCTCGGACGGGTTTGAGTAGGAGCATAGCTGTTGGGACCCGAAAGATGGTGAACTATACCTGAATAGGGTGAAGCCAGAGGAAACTCTGGTGGAGGCTCGTAGCGGTTCTGACGTGCAAATCGATCGTCGAATTTGGGTATAGGGGCGAAAGACTAATCGAACCATCTAGTAGCTGGTTCCTGCCGAAGTTTCCCTCAGGATAGCAGAAGCTCGTTACAAACAGTTTTATGAGGTAAAGCGAATGATTAGAGGTCTCGGGGCTGAAATGGCCTTAGCCTATTCTCAAACTTTAAATATGTAAGAAGTCCTTGTTGCTTAATTGAACGTGGACATACGAATGTAGAGCTTTTAGTGGGCCATTTTTGGTAAGCAGAACTGGCGATGCGGGATGAACCGAACGCGAAGTTAAAGTGCCGGAATGCACGCTCATCAGACACCACAAAAGGTGTTAGTTCATCTAGACAGCCGGACGGTGGCCATGGAAGTCGGAATCCGCTAAGGAGTGTGTAACAACTCACCGGCCGAATGAACTAGCCCTGAAAATGGATGGCGCTCAAGCGTGCTACTTATACTTCGCCGGCAGCCTGTTTGCAGGTTGCCGAGTAGGCAGGCGTGGGGGTGGTGACGAAGCCTTGGCTGTGAAGCTGGGTCGAACCGCCCCTAGTGCAGATCTTGGTGGTAGTAGCAAATATTCAAACGGGAACTTTGAAGACTGAAGTGGGGAAAGGTTCCATGTCAACAGCAGATGGACATGGGTGAGTCGATCCTAACCCTCAGGTTAAACCTGATGAAAGTCGCCTCTTTGTTGAGGCCTCTGGGGAAAGGGAATCTGGTTAAAATTCCAGAACTTGGATGCGGAACTCACGGCAACGTAACTGAATGTGGAGACGCCGGCGTGGGCCCTGGGAGGAGTTTTCTTTTTCTTCTAACAGCCTGTGACCCTGGAATTGGATTATCCGGAGATGGGGTTTGTTGGCTGGAAGAGCGCGGCCTTTGTTTTGCCGCGTCCGGTGCGCCTACGACGGTCCTTGAAAATCCGCAGGAAGGAATGTTTTCGCGCCAAGTCGTACTGATAACCGCAGCAGGTCTCCAAGGTTAACAGCCTCTAGTTGATAGAACAATGTAGATAAGGGAAGTCGGCAAAATGGATCCGTAACTTCGGGATAAGGATTGGCTCTAAGGGTTGGGTGGTTTAGTGTTTCTTGCGGCAGCGGTGGTTGCCGGCCCAGGCGGCTAACCTTTCGGGGTCGGCTGCTTGGGCTGGCAACTCCGCCAAAGCTTGGAGCGCCGCCACCATTTGCAACCAACTTAGAACTGGTACGGACAAGGGGAATCTGACTGTCTAATTAAAACATAGCATTGCGATGGTCAGAAAGTGATGTTGACGCAATGTGATTTCTGCCCAGTGCTCTGAATGTCAAAGTGAAGAAATTCAACCAAGCGCGGGTAAACGGCGGGAGTAACTATGACTCTCTTAAGGTAGCCAAATGCCTCGTCATCTAATTAGTGACGCGCATGAATGGATTAACGAGATTCCCACTGTCCCTATCTACTATCTAGCGAAACCACAGCCAAGGGAACGGGCTTGGCAGAATCAGCGGGGAAAGAAGACCCTGTTGAGCTTGACTCTAGTTTGACATTGTGAAAAGACATGGAGGGTGTAGAATAAGTGGGAGCTTCGGCGCCGGTGAAATACCACTACCTCCATTGTTTTTTTACTTACTGGGTGAAGGAGAGCTGGTCGCGAGACCAATTTCTTGCTTTGCATTTTTTCTCCGTCCAAGACATTGTCAGGTGGGGAGTTTGGCTGGGGCGGCACATCTGTTAAACGATAACGCAGGTGTCCTAAGGGGGGCTCATGGAGAACAGAAATCTCCAGTGGAACAAAAGGGTAAAAGCCCCCTTGATTTTGATTTTCAGTGTGAATACAAACCATGAAAGTGTGGCCTATCGATCCTTTAGTCCCTCGGAATTTGAGGCTAGAGGTGCCAGAAAAGTTACCACAGGGATAACTGGCTTGTGGCAGTCAAGCGTTCATAGCGACATTGCTTTTTGATTCTTCGATGTCGGCTCTTCCTATCATACCGAAGCAGAATTCGGTAAGCGTTGGATTGTTCACCCACTAATAGGGAACGTGAGCTGGGTTTAGACCGTCGTGAGACAGGTTAGTTTTACCCTACTGATGGACCGTTGTTGCAATAGTAATTGAACTTAGTACGAGAGGAACCGTTCATTCAGATAATTGGTATTTGGCCCTGTCTGACCAGGCACCGGGCCGAAGCTACCATCTGCTGGATTATGGCTGAACGCCTCTAAGTCAGAATCCATGCTAGACGCGACGACAATTTTTGGCCTCGCCTGCTGCTAGTTGGATACGAATAAGCTACGGCGCGGAACCATACAAGGTGGTGTTTGCTGGGTCACGGAAAGGTGGCCTGGTGGCCACGAATTGCAATGTCACACGGGCGGGGATGGATCCTTTGCATACGACTTAGATGTGCAACGGGGTATTGTAAGCGGTAGAGTAGCCTTGTTGTTACGATCCGCTGAGATTAAGCCTCTGTTGTCGGGTTTGT</td><td>null</td><td>f9bc87ef4ad7041bf5744c7b8bc7c505</td></tr><tr><td>13137713</td><td>URS0000C87731</td><td>2017-10-19T09:48:29.406+0000</td><td>rnacen</td><td>E17677F3C999FB2B</td><td>56</td><td>GTTGATCGTGGTCCTCGTTGGTTGTTGATGGTTGTTGATGGGCACACTGACTGACG</td><td>null</td><td>f9bcd23d5e7879ee6204a1b404475eaa</td></tr><tr><td>13137714</td><td>URS0000C87732</td><td>2017-10-19T09:48:29.406+0000</td><td>rnacen</td><td>7106F4E01C8F6BDF</td><td>221</td><td>CATAGGAAGGATTGACAGATTGAGAGCTCTTTCTTGATTCTATGGGTGGTGGTGCATGGCCGTTCTTAGTTGGTGGAGTGATTTGTCTGGTTAATTCCGTTAACGAACGAGACCTTAACCTGCTAAATAGTTACGCTAATCTCGATTGGCGGCTAACTTCTTAGAGGGACTGTTGGTGTTCAACCAAAGTCAGGAAGGCAATAACAGGTCNNNNNNNNNNN</td><td>null</td><td>f9bcd92a7055553c013fe5df55b142df</td></tr><tr><td>13137715</td><td>URS0000C87733</td><td>2017-10-19T09:48:29.406+0000</td><td>rnacen</td><td>C89E6C39434300F3</td><td>74</td><td>GAGGGTATAGCTCAAGTGGTAGAGTGCATGCTTAGCATGCATGAGGTCCTGGGTTCGCATCCCCAGTACTTCCT</td><td>null</td><td>f9bce49ad544dadf8c624978d9484057</td></tr><tr><td>13137716</td><td>URS0000C87734</td><td>2017-10-19T09:48:29.406+0000</td><td>rnacen</td><td>DDF191AE053F432C</td><td>135</td><td>TTGTTACTCCCTCCGTCCAGAAATACTTGTCATCAAAATGAATAAAAGGAGATGTATCTAGATGTATTTTAGTTCTAGATACATCCCTTTTTGTCCATTTTGATGACTAGTATTTTCGGACGGAGGGAGTATATA</td><td>null</td><td>f9bd1a81a8b41d50686333cc970ba67d</td></tr><tr><td>13137717</td><td>URS0000C87735</td><td>2017-10-19T09:48:29.406+0000</td><td>rnacen</td><td>95DDC12C3577BA1D</td><td>119</td><td>CTCTATGGCCATGCCACCCTGAACATGCCCGATCTCGTCTGATCTCGGAAGCTAACCAGGGTCGGGCCTGGTTAGTACTTGGATGGGAGACCACCTAGGAATACCAGATGCTGTAGGCG</td><td>null</td><td>f9bd22e54f7dd77b582e37c4d1655ec7</td></tr><tr><td>13137718</td><td>URS0000C87736</td><td>2017-10-19T09:48:29.406+0000</td><td>rnacen</td><td>BD9E8F4B43A58B93</td><td>125</td><td>CATGTACTCCCTCTGTCCCGAATTACTTGTCATGGAAATGGATAAAAATGGATGTATCTAGAACTAAAATACGTCTAGATACATTCATTTCTGCGACAAGTAATTTCGGACGAAAGGAGTACTCC</td><td>null</td><td>f9bd374a742f8c1b5ee7e38b95f7b70e</td></tr><tr><td>13137719</td><td>URS0000C87737</td><td>2017-10-19T09:48:29.406+0000</td><td>rnacen</td><td>8330FC3A03DB1491</td><td>73</td><td>TCCCTGGTGGTCCAGTGGCCAAGACTCTGCACTCCCAATGCAGGAGGCCCGGGTTTGATCCCTGGTCAGGGAA</td><td>null</td><td>f9bd61335828947a18caead071a3ff3a</td></tr><tr><td>13137720</td><td>URS0000C87738</td><td>2017-10-19T09:48:29.406+0000</td><td>rnacen</td><td>ECAF51D85299AE4F</td><td>142</td><td>AGCCAGGAGGAGGAGGCACAGGGTTCCCCCTGAGAGCCAGGCTAGCTCTTGGTGTTGCTTTGCTGCAGGTGCCATTTGGCATTGAGGATTGTTTTTGTCTTCCTCCGGGAAAGTAGGAGGGAGAGGACACAGTCTGAGTGGT</td><td>null</td><td>f9bd626e60d7382f2228957714480ce9</td></tr><tr><td>13137721</td><td>URS0000C87739</td><td>2017-10-19T09:48:29.406+0000</td><td>rnacen</td><td>F3508EE478B60A80</td><td>107</td><td>GTGCTCGCTTCGGCAGCACATATACTAAAATTGGAACGATACAGAGAAGATTAGCATGGACCCTGCGCAAGGATGACATGCATATTCGTGAAGCGTTCCTTTTTTTA</td><td>null</td><td>f9bd665e9980c6e7b8513d7647520db3</td></tr><tr><td>13137722</td><td>URS0000C8773A</td><td>2017-10-19T09:48:29.407+0000</td><td>rnacen</td><td>7169CD96F956781D</td><td>135</td><td>TATATACTTCCTTCATTTTAAAATTCTTGTCTTAGATTTGTCTAAATTCGAATGTATCTAATACTAAAATATGACTTGATACATTTGTATTTGGACAAATCTAAGACAAAAATTTTGGAACGGAAAGAGTATATT</td><td>null</td><td>f9bda842d0ebc6f43912c11e4fc2d2e3</td></tr><tr><td>13137723</td><td>URS0000C8773B</td><td>2017-10-19T09:48:29.407+0000</td><td>rnacen</td><td>047AEF9CCF465618</td><td>72</td><td>GAGGGTGTGGCTCAGTGGTAGAGCATGTGCTTAGCACGCACGAGGTCCTGGGCTCAAGCCCCCGTACCTCCA</td><td>null</td><td>f9bdcda6e5da7e57ff4811d0a41c97eb</td></tr><tr><td>13137724</td><td>URS0000C8773C</td><td>2017-10-19T09:48:29.407+0000</td><td>rnacen</td><td>9037210384127639</td><td>45</td><td>ATCCAACTGACGAGTCCGAAATGAGACGAAATGTGCGTCCTGGAC</td><td>null</td><td>f9be124b60001a155dddd1f53263289b</td></tr><tr><td>13137725</td><td>URS0000C8773D</td><td>2017-10-19T09:48:29.407+0000</td><td>rnacen</td><td>FB90CBAFA6169662</td><td>197</td><td>ACCAACTCCAAACAGCCTTTTGGCTTAGATCAAGTGTAGTATCTGTTCTTTTCAGTTTAATATCTGAAACGGTTCTATTTGGGACCTTCTTATATTAATCTTATTTTTGAAGCTTAGGGAATTGGCCTCTGTGCTTGCACATGTCGATACCCACTGTGTCACTGGTATTGTACTGTCTCCAGTTGATGCAACCGACG</td><td>null</td><td>f9be1bb5fd024001c4ff694d35482657</td></tr><tr><td>13137726</td><td>URS0000C8773E</td><td>2017-10-19T09:48:29.407+0000</td><td>rnacen</td><td>A17A87E178A59852</td><td>44</td><td>CTCAGTTGATGGGTCGCAAATAAGACGAAACGCGAGTCCTAGAT</td><td>null</td><td>f9be6a741f382b36b5739566adaa2ba5</td></tr><tr><td>13137727</td><td>URS0000C8773F</td><td>2017-10-19T09:48:29.407+0000</td><td>rnacen</td><td>FD38217C192BCF4A</td><td>145</td><td>TAATTCAAATCGCTTAATCCATTAGGAACGGGGGACCCATTTTTACGTGGATCTTTGATCCTCTTGGGGTGAATCCTTTACCAGGAAGGGATACTCTTTTGTCCCGAACCCGACAGCTAACTCCGTAAGCGTTATGAGAGGAAGG</td><td>null</td><td>f9be8b52e4d429867735f9abff22dcf0</td></tr><tr><td>13137728</td><td>URS0000C87740</td><td>2017-10-19T09:48:29.407+0000</td><td>rnacen</td><td>3B61AFB1CA1FA896</td><td>85</td><td>ACCTGGGTGGCTCAGCCGGTTGAGCATCTGACTTCGGCTCAGGTCATGATCTCAGGGTTTGTGGGTTTGAGCCCTGCATCAGGCT</td><td>null</td><td>f9beaad458a0c9022836ad0a892a1687</td></tr><tr><td>13137729</td><td>URS0000C87741</td><td>2017-10-19T09:48:29.407+0000</td><td>rnacen</td><td>FEB59436CBA505AB</td><td>109</td><td>GTCTATGGCCATGCTACCCTGAATAAGCCCAATCCTGTCTGATTTTGGAAGCTAAGCAGGGTCGGGTCTGATTAGTACTTGGATGGGAGACCACCAGGTGCTGTAGGCG</td><td>null</td><td>f9becc6065132ccfcb762d628239dd1d</td></tr><tr><td>13137738</td><td>URS0000C8774A</td><td>2017-10-19T09:48:29.412+0000</td><td>rnacen</td><td>3527903CF983113B</td><td>599</td><td>GAGTTTGATCCTGGCTCAGAAGGAACGCTAGCTATATGCTTAACACATGCAAGTCGAACATTGTTTTCGGGGAGCTGGGCAGAAGGAAAAGAGGCTCCTAGCTAAAGTTGTCTCGCCCTGCTTCAAAACTATAGGGCGCGCGCTACGGATTTGACCTAACGGCCTCCGTTTGCTGGAATCAGAATAGTTGAGAACAAAGTGGCGAATGGGTGCATAACACGTGGGAATCTGCCGAACAGTTCAGGCCAAATCCTGAAGAAAGCTCAAAAGCGCTGTTTGATGAGCCTGCGTAGTATTAGGTAGTTGGTCAGGTAAAGGCTGACCAAGCCAATGATGCTTAGCTGGTCTTTTCGGATGATCAGTCACATTGGGACTGAGACACGGCCCCGACTCCCACGGGGGCAGCAGTGGGGAATCTAGGACAATGCATTTAGAATTCTAATAAAACGAAGAGGCTATCGAACAAATAGAGGAAATGGCAGAAAGGGGGAAAGTAAATTCCTATTACATTGGCATATGGCACGAAAAGGAAATCCAATTTCAGTAAGACTTGATCTATCGTCAGATTATGGTTTTTATCAATGGGGGGGGGGCTTTTC</td><td>null</td><td>f9c0768b9be512bcbf492131e3de094d</td></tr><tr><td>13137739</td><td>URS0000C8774B</td><td>2017-10-19T09:48:29.412+0000</td><td>rnacen</td><td>E2A986E30DBD9326</td><td>73</td><td>GTCCCCATCGTCTAGAGGCCTAGGACACCGCCCTTTCACGGCGGCAACGCGGGTTCGAATCCCGCTGGGGACG</td><td>null</td><td>f9c083537a0d52e144fb8251dd3f8e59</td></tr><tr><td>13137740</td><td>URS0000C8774C</td><td>2017-10-19T09:48:29.412+0000</td><td>rnacen</td><td>B84CFA454D566F95</td><td>46</td><td>GCACTGCTGAGGAGTCTCACAATAAAACGAAACGGCCGTCCAGTGC</td><td>null</td><td>f9c0913ac5ed1e2ef1ea137c309f0ce6</td></tr><tr><td>13137741</td><td>URS0000C8774D</td><td>2017-10-19T09:48:29.413+0000</td><td>rnacen</td><td>8DD847BB9AEB5069</td><td>381</td><td>GGGGTCGATGTGGTTTCGACTTTGTGCATTGAGCCAGGGGAAGCGTGCCGGTGAAGGCAGAGGACCACCGTATAAGCGTCGCTGCAACTTTATAAGCGCCGAGAACACTCAGCGCGACTACGCCCTCGCTGCCTAATACCAGCGACCGCGTGTCTGTCAGCCCGGGTTTGTCCCTGACCCGGTAGCTGGCATCGACTCAAGGGACTTGCCACTCGGCTTTGTTGTTCGGGCCGAGTGGGACACCCTACGAGCAACTGGGCCCGTCATTCAGACTTGTTCGCAAGAGCTGAAGGGTCGAGCAGAGACCATGTGCGAACTGCGCACGGAGAAGCCCTGGCGAGGTCGCAAAGGACCCGGGTTCAATTCCCGGCGGCTCCACCA</td><td>null</td><td>f9c09d040e49ec6eb97a54fd51aaae65</td></tr><tr><td>13137742</td><td>URS0000C8774E</td><td>2017-10-19T09:48:29.413+0000</td><td>rnacen</td><td>F0FD703994702C00</td><td>72</td><td>TCCCTGGTGGCTCAGAGGTTAAAGCATCTGCCTGGAATGCGGGAGACCCAGGTTTGATCCCTGGGTTGGGAA</td><td>null</td><td>f9c0a00c5cb37ef12a0af69bb2d56275</td></tr><tr><td>13137743</td><td>URS0000C8774F</td><td>2017-10-19T09:48:29.413+0000</td><td>rnacen</td><td>34C5CA252D3C19D4</td><td>72</td><td>GAGGGTATAGCTCAGTGGTAGAGCACATGCTTAGCATGCGCGAGATCCTGGGTTCAATCCCCAGGTCCACCA</td><td>null</td><td>f9c0a4a34ef6d576f890b22d900c68a4</td></tr><tr><td>13137744</td><td>URS0000C87750</td><td>2017-10-19T09:48:29.413+0000</td><td>rnacen</td><td>0AC0AA8D321D444F</td><td>72</td><td>GTGGGTATAGCTCAGGGGTAGAGCATGTGCTTGGCGTGCACGAAGTCCTGGTTTCAGTCCCCAGTACCTCCG</td><td>null</td><td>f9c0b9e4986dfbdd2d8fd783a1e274c3</td></tr><tr><td>13137745</td><td>URS0000C87751</td><td>2017-10-19T09:48:29.413+0000</td><td>rnacen</td><td>EAE58B8577539644</td><td>115</td><td>CTTCTACTCCCTCCGTTCCGAATTACTTGTCAGAGGTATGGATGTATCTAGATGTATTTTAGTTCTAGATACATCCATTTCTGCGACGAGTAATTTGGAACGGAGGGAGTAACCA</td><td>null</td><td>f9c0c5570a4b2b5eafcda5d31ddd7596</td></tr><tr><td>13137746</td><td>URS0000C87752</td><td>2017-10-19T09:48:29.413+0000</td><td>rnacen</td><td>212AADC67A204A37</td><td>87</td><td>GCTGGTGTAAGTGATGACTTTTTTCCCCAACGGAACGACAGTGTTGATTTCTTGCTGTTCAAGCCAGGTCATGTCTGATGCACCAGC</td><td>null</td><td>f9c0ce3f979bf8359887e8f826a4dc7e</td></tr><tr><td>13137747</td><td>URS0000C87753</td><td>2017-10-19T09:48:29.413+0000</td><td>rnacen</td><td>EF1A1A2742F31C55</td><td>135</td><td>CATGTACTTCCTCCGTTCCGAATTACTTGTCTTAGATTTGTCTAGATACGGATGTATCTAGACTCATTTTAGTGCTAGATACCTCCGTATCTAGACAAATCGAAGACAAGTAATTCGGAACGGAGGGAGTAGTAA</td><td>null</td><td>f9c0f82827e51e0283fe198014cee7eb</td></tr><tr><td>13137748</td><td>URS0000C87754</td><td>2017-10-19T09:48:29.413+0000</td><td>rnacen</td><td>E5CC814DEC2674D3</td><td>73</td><td>AGCGGTCTGGTCTAGCGGTCAGAACGCTGGCCTTGTAAGCCTGGGGTCCCGGGTTCAATTCCCGGTGGTGCTC</td><td>null</td><td>f9c10d64be527c1130c04df063bd2c46</td></tr><tr><td>13137749</td><td>URS0000C87755</td><td>2017-10-19T09:48:29.413+0000</td><td>rnacen</td><td>41638722BDB81324</td><td>116</td><td>GGTCACGAGATTCAGCGCCAAGCCCCGGCTCGCTGGACGGCAACCCTCCCTCGCGGCGGGGTGCTCCGGGTGATGACCTGGTGACGACCAGCGCCGGTCCGTCGCAAGCGCGAGGC</td><td>null</td><td>f9c10e3b01a1a31a123a6fde3c922489</td></tr><tr><td>13137750</td><td>URS0000C87756</td><td>2017-10-19T09:48:29.413+0000</td><td>rnacen</td><td>1F01A7939AF86162</td><td>119</td><td>GTCTACGGCCATGCCACCCTGAACAAGCCCAACCCCGTCTGATCTCGGAAGCTCAGCAGGGTCGGGCATAGTTAGTACTTGGATGGGAGATCACCTAGGAAGACCAGGTGCTGTAGGCT</td><td>null</td><td>f9c122d2b907af98d5790fc716a02162</td></tr><tr><td>13137751</td><td>URS0000C87757</td><td>2017-10-19T09:48:29.413+0000</td><td>rnacen</td><td>1C761FD0E9C073B5</td><td>48</td><td>ATCCAACTGACGAGTCTCAAATAGGATGAAACGCCAGTCCAACTGGAT</td><td>null</td><td>f9c128e2ee3dbea46e0319d15a2154d7</td></tr><tr><td>13137752</td><td>URS0000C87758</td><td>2017-10-19T09:48:29.413+0000</td><td>rnacen</td><td>F513F79E11062EC4</td><td>189</td><td>GGAAACCTGGAAACTACCGTTGGATCGAAAAATAGACGTCTAAGATTTGTCCATGTCACCATGAGTAAAATTTTGCTCCTAGTAAACTTTTTACTCATGAGTCAACTTACAAGTAAAATTTTTACTCGTGATTACGTGGACGAATATCAGACATCTATTTTTCGATCCAACGGTAGTTTCCAGGTTTCC</td><td>null</td><td>f9c1843f9f08b2af08a61449c619e708</td></tr><tr><td>13137753</td><td>URS0000C87759</td><td>2017-10-19T09:48:29.413+0000</td><td>rnacen</td><td>2EB952F9C57B3DD7</td><td>45</td><td>ATTCAGCTGACGAGTCCCAAATAGGACGAAACGCACGTTCTGTAT</td><td>null</td><td>f9c1976e4920160c9d84a9fcbefa1085</td></tr><tr><td>13137754</td><td>URS0000C8775A</td><td>2017-10-19T09:48:29.413+0000</td><td>rnacen</td><td>CF4810CF2365AEA8</td><td>108</td><td>GTTTGCATGATGAGAAACCTTTTTTTAACAGTTATCCCTGTCTGAATGGGGCAAACATCAAAGCTAACGCACCATGTGTCGAGAATTTTTTTATACTCTGAGTCTTAC</td><td>null</td><td>f9c1b31d3ff16a143b4abe5dbc5edc04</td></tr><tr><td>13137755</td><td>URS0000C8775B</td><td>2017-10-19T09:48:29.413+0000</td><td>rnacen</td><td>E4BDD97EDC20E87B</td><td>72</td><td>GCGGCAATAGCTCAGTGGCAGAGCCCCCGCTTCGCATGCGGGGAGACCCGGCTTCGATTCCCGGCTGCTTCC</td><td>null</td><td>f9c1d92b41d8a3b417833d2781a49ede</td></tr><tr><td>13137756</td><td>URS0000C8775C</td><td>2017-10-19T09:48:29.413+0000</td><td>rnacen</td><td>533D97C6E06923D0</td><td>514</td><td>CGGTGAAGATGCCGGATTACCCGCAACGGGACGGAAAGACCCCATGCACCTTTACTATAGCTTAACATTGAAATTGGGTACAGGATGTGTAGGATAGGCGGGAGATTTTGAAGCGGCTTCGCCAGGAGTCGTGGAATCAACCTTGAAATACCGCCCTTTCTGTATCCGGTTTCTAATCCCGCTATGCGGAGGACACTGCGTGGTGGGTAGTTTGACTGGGGTGGTCGCCTCCAAAAAGGTAACGGAGGCTTTCAAAGGTAAGCTCAGTACGCTTGGTAACCGTACGGGGAGTGCAATGGCATAAGCTTGCTTGACTGTGAGACCAACAAGTCGACCAGGGTCGAAAGACGGATATAGTGATCCGGTGGTTCTGATGGAAGGGCCATCGCTCAAAGGATAAAAGGTACGCTGGGGATAACAGGCTGATCTCCCCCAAGAGCTCATATCGACGGGGAGGTTTGGCACCTCGATGTCGGCTCGTCACATCCTGGGGCTGGAGAAGGTCCCAAGGGTT</td><td>null</td><td>f9c202a017df19c9add27eccc2e86066</td></tr><tr><td>13137757</td><td>URS0000C8775D</td><td>2017-10-19T09:48:29.413+0000</td><td>rnacen</td><td>9F268C796DE8EE98</td><td>397</td><td>GGGCTTGACTGGATTTGACAGCGGGTAGAAATAGTAAGTAAGCATGCAGTGCGTCGTTGATTTGCACTTTAATCTCAGTCCTCAAAATTTTATCTGGCGAAAGACAATACGCTCTTGCTGCTTAATCGAATCACAGTAGATTAGCTTAATCCCGGTACTAGGTGCTGGGACGAGACATCACTCGGAAGCTGTTGCTCCGAAGCATTCCGATCCAGTGGTGCAGTTACATCGGGGATAGTTCTTGTCGGCCTTGAGGCGAGAATGAAACTTTAAAGGATAAGGCAATGGTTGATGGCTTTGGTTCTGCCGTTGCTCGAAAACTTAGGCAAAGATAAGCATGTAGAAAGCTTATGATTTCCTCGTTTGGACGAGGGTTCGATTCCCTCCAGGTCCACCA</td><td>null</td><td>f9c21273aa41905f5e6f77b71516627d</td></tr><tr><td>13137758</td><td>URS0000C8775E</td><td>2017-10-19T09:48:29.413+0000</td><td>rnacen</td><td>9F9A769AAF282ADF</td><td>71</td><td>CCCTGATGGTTCAAATGGTAAAGAATCCACCTGCAATGTAGGAGACCCAGGTTCCATCCCTGGATTGGGAA</td><td>null</td><td>f9c23137836b6e012ebf41bca82abcac</td></tr><tr><td>13137759</td><td>URS0000C8775F</td><td>2017-10-19T09:48:29.413+0000</td><td>rnacen</td><td>B52D22C7C8829AD1</td><td>73</td><td>ACCTGGCTGGTTCAGTCAGTACAGCATGTGACTCCTGATCTCAGGGTCGTGAGTTTGAGCCTCACGTTGGGCA</td><td>null</td><td>f9c24242fee391f8ad3a1525d811645a</td></tr><tr><td>13137760</td><td>URS0000C87760</td><td>2017-10-19T09:48:29.413+0000</td><td>rnacen</td><td>D845A60E513093B8</td><td>45</td><td>ATCCAGCTGAAAAGTTCCAAACAGGACGAAACGTGCATCGTGGAT</td><td>null</td><td>f9c24bd5600d929746e44a2a37dfde8a</td></tr><tr><td>13137761</td><td>URS0000C87761</td><td>2017-10-19T09:48:29.414+0000</td><td>rnacen</td><td>641A2F534E944259</td><td>78</td><td>GATTGCAGGCTGCAACTCGCCTGCATGAAGCCGGAATCGCTAGTAATCGCCGGTCAGCCATACGGCGGTGAATATATT</td><td>null</td><td>f9c24e01eeba853dc939950c41f7a0a0</td></tr><tr><td>13137762</td><td>URS0000C87762</td><td>2017-10-19T09:48:29.414+0000</td><td>rnacen</td><td>F27C9324396D1025</td><td>73</td><td>GCCTTCTTAGCTCAGTTGGCAGAGCGCGTGCCTAGTAAGCATGAGGTCAGGTGTTCGAATCTCCTAGAAGGCA</td><td>null</td><td>f9c2a71d494c0315cb7f2d2ef3e41139</td></tr><tr><td>13137763</td><td>URS0000C87763</td><td>2017-10-19T09:48:29.414+0000</td><td>rnacen</td><td>9E1F16B9631E2070</td><td>85</td><td>GCCTGGGTGGCTCAGTCGGTTGAGTGTCTGACTTCAGCTCAGGTCACGATCTCACAGTCCGTGGGCTCGAGCCCCGCGTCGGGCT</td><td>null</td><td>f9c2d6c32292be79df4263f115211860</td></tr><tr><td>13137764</td><td>URS0000C87764</td><td>2017-10-19T09:48:29.414+0000</td><td>rnacen</td><td>5E121EC771BC8DD9</td><td>48</td><td>ATCCATCTGACAAGTCCCAAATAGGACGAAACGAGCTTCAAACTGGAT</td><td>null</td><td>f9c2e0f0131713c3fbd94d8f37b879d4</td></tr><tr><td>13137765</td><td>URS0000C87765</td><td>2017-10-19T09:48:29.414+0000</td><td>rnacen</td><td>82AE36DE9A3C91B8</td><td>119</td><td>ATCTACGGCCATAGAACCCAAAAAGCACCGCATCCCGTCCGCTCTGCGCAGTTAACTTGGGTATCGCTCGGTTAGTACCAAGGTGGGGGACCACTTGGGAATCCCGGGTGCTGTAGTTT</td><td>null</td><td>f9c2e708721d9bd60867018975fd65c3</td></tr><tr><td>13137766</td><td>URS0000C87766</td><td>2017-10-19T09:48:29.414+0000</td><td>rnacen</td><td>40A179923CDDAF1D</td><td>69</td><td>TCCACTAGTTAGTTGGTAGAGCACAAAGCTCTTAACCTTGTGGACGTGGGTTCAAGCCCCATGGTGGAG</td><td>null</td><td>f9c300a2f1aaea2c65676603ed6c0156</td></tr><tr><td>13137767</td><td>URS0000C87767</td><td>2017-10-19T09:48:29.414+0000</td><td>rnacen</td><td>03348FF438CB5EE2</td><td>88</td><td>GCCCGGATGGTGAAATTGGTAGACACAGCGGACTTAAAATCCGTCGCCGTTGAAGGACGGCATACCGGTTCGACCCCGGTTCCGGGCA</td><td>null</td><td>f9c3029772d300256e5215f9ad85e78c</td></tr><tr><td>13137792</td><td>URS0000C87780</td><td>2017-10-19T09:48:29.433+0000</td><td>rnacen</td><td>95AF1558427DCE8A</td><td>196</td><td>AACACCAGAAGAGGTTGCATTAGCCAGGTAGGTAATTTGAGGGGCCACACCCCAAAGACAATTATTGAGGGGGACTAATGCCGAGAATGAACGCGAATAGCCAATTTTTAATAAATTACTAGGTGGAAAGCGTCATTCGGTCATAACGGTTGAATCCTTATGACTGTCACCGAAACGGTGGAGAGCTTCTGGCTGA</td><td>null</td><td>f9c6799020be741b2293029ab7011ee0</td></tr><tr><td>13137793</td><td>URS0000C87781</td><td>2017-10-19T09:48:29.433+0000</td><td>rnacen</td><td>63F965F2847A1DCF</td><td>71</td><td>GGGAGAATGATCTTGTGGTTGAGGCACTGGACTAGGATTCAGAGATCTGGGTTTAATTCCTGGTTCTGCCA</td><td>null</td><td>f9c682753c738da5ddee827283aeaaf1</td></tr><tr><td>13137794</td><td>URS0000C87782</td><td>2017-10-19T09:48:29.433+0000</td><td>rnacen</td><td>A48C4BCEEE07BDFF</td><td>75</td><td>GCGCCGGTGGTGTAATGGCGTAGAGCACTCCCGTCCGATCAGCGGGAAGTGCGGGTTCGAGTCCCGCCTGGCGCT</td><td>null</td><td>f9c68ca3d2232d783d56f58bd61bffcf</td></tr><tr><td>13137795</td><td>URS0000C87783</td><td>2017-10-19T09:48:29.433+0000</td><td>rnacen</td><td>088DDD6CA5D99B36</td><td>73</td><td>GCCTTCGTGGTGTAGTGGTCTGCATCCTCGACGCGTAACCGAGAGGTCCGTGGTTCGATTCCCGGCGAAGGCG</td><td>null</td><td>f9c6a138276b129949e2ffae2f6133d2</td></tr><tr><td>13137796</td><td>URS0000C87784</td><td>2017-10-19T09:48:29.433+0000</td><td>rnacen</td><td>7128BB766303061F</td><td>115</td><td>AAAGTACTCCCTTCGTTCAGAATTACTTGTCACAAAAATGGATGTATCTACAACTAAAATATATATAGATACATTCATTTTTTGGACGAGTAATTTCGAACAGAGGAAGTACAAT</td><td>null</td><td>f9c6ac812e9a7e3e6e45f2ec6f3c62f7</td></tr><tr><td>13137797</td><td>URS0000C87785</td><td>2017-10-19T09:48:29.433+0000</td><td>rnacen</td><td>C67F6FA3126486CA</td><td>127</td><td>AGGTCATCCAACGACGCACTCCTCCTCCCAGCGAAGTTGGATAGAGATCGGCAATATCCTCCTCCTCCCAATTGCCGATCAAGTTTAAAAAGCCTGGCGCCTCCTCCTCCCGCGCCAGGCTTTTTTG</td><td>null</td><td>f9c6b287ee2ad26303ad3261a25b0f22</td></tr><tr><td>13137798</td><td>URS0000C87786</td><td>2017-10-19T09:48:29.433+0000</td><td>rnacen</td><td>F04DB761484AA87C</td><td>134</td><td>ATTATACTCCCTCTGTCCGAAAATACTTGTCATCAAAATGGACAAAACGGGATGTATCTAAAACTAAAATACATCTAGATACATCCCTTTTATCCATTTTGATGACAAGTATTTACGGACGGAGGGAGTATATA</td><td>null</td><td>f9c6d93daadc4f7172af0678fd816f5a</td></tr><tr><td>13137799</td><td>URS0000C87787</td><td>2017-10-19T09:48:29.433+0000</td><td>rnacen</td><td>59F878ACC78E596D</td><td>74</td><td>GCTGGAATAGCTTAGTTGGCTAGAGTGTGTGGTTGTTAACCACAAGGTCGGAGGTTCAAGCCCTCCTTCTAGCG</td><td>null</td><td>f9c6de3fabdf426e8fee706003bd28c2</td></tr><tr><td>13137800</td><td>URS0000C87788</td><td>2017-10-19T09:48:29.433+0000</td><td>rnacen</td><td>29F2B0EB903D58B2</td><td>435</td><td>TTAGAGGGACAAGCATTACGAATGTGCACGAAATTGAGCAATAACAGGTCTGTGATGCCCATAGATCTCCGGGGCCGCACGCGCGCTACAATGACGGTACCAAAGAGTCTGACCTTTTGGCCCGAAAGGGTTGGGCAAACTGGTCAATCGCCATCATGACAGGGATCGGGGCTTGGAATTGTTCCCCGTGAACGAGGAATTCCTAGTATGTGCAAGTAATAAGCTTGCGCTGATTACGTCCCTGTCCTTTGAACACACCGCCCGTTGATACTAATGGTTGAATGGTTTAGTAAGGTCCTCGGATTGGCGCCATTGCAGTGCAAGCCGCAAGGTTGGTGCTCGACAGGTGCCGAGAATGTGACCAAATTTGATCATTTAGAAGAAGTAAAAGTAGTAACAAGGTTTTACGGAGGTGAACCTGCGAAAGGATCATTA</td><td>null</td><td>f9c6e0a8aad953180579e8a9b42203b7</td></tr><tr><td>13137801</td><td>URS0000C87789</td><td>2017-10-19T09:48:29.433+0000</td><td>rnacen</td><td>5A1B03552C165BC7</td><td>289</td><td>CTGGTCGATCAGGGTCGGCGAGATGAAGTGGACGTGCGCGTCGACGGCTCCGGCGGTGAGGATCTTCCCGTTGCCCGCGATGATCTCGGTCTCGGGTCCGATGACGAGGTCGGGGTGGACGCCGTCCATGGTGTCCGGGTTGCCGGCCTTGCCGATGCCGGTGATCCGGCCGTCCCGGATGCCGATGTCGGCCTTGACGACGCCCCAGTGGTCGATGACGACGGCGCCGGTGATCACGGTGTCGGGCGCGCCTTCGGCCCGGGTCGTACGGGACTGGCCCATCGACTCG</td><td>null</td><td>f9c6e885cbed804ce0f319f5cc5b1a66</td></tr><tr><td>13137802</td><td>URS0000C8778A</td><td>2017-10-19T09:48:29.433+0000</td><td>rnacen</td><td>DEC1D4B52DF24369</td><td>81</td><td>GGCCTCGTAGCTCAGTTGGTTAGAGCATTGGCTGTATTAAAGCCTTCCCCGTTGGCGTGGATTCGAACCCCACTGAGACCG</td><td>null</td><td>f9c6f22b461ae077520454a05ad8e711</td></tr><tr><td>13137803</td><td>URS0000C8778B</td><td>2017-10-19T09:48:29.433+0000</td><td>rnacen</td><td>D85F08ABF9523244</td><td>83</td><td>GCGGGCGTGGTGGAACGGTAGACACATGGCACTTAAACTGCCTGGGGCGAAAGCCCGTGCCGGTTCGAATCCGGCCGCCCGCA</td><td>null</td><td>f9c700f264c65583cae8542f703e7303</td></tr><tr><td>13137804</td><td>URS0000C8778C</td><td>2017-10-19T09:48:29.433+0000</td><td>rnacen</td><td>FFD8A4F2A1186FDE</td><td>128</td><td>GTGTTGTATGAAAGGAGAGAAGGTTAGCACTCCCCTTGATAAGGATGGAAGAGGCCCTAGTGGCCTGTACAACACGCATACGGTTAAGGCACTGCCACCTACTTAGTGGCATCTAACCATGTTTTAGC</td><td>null</td><td>f9c705fdb36f9cf5a3aabee0a4b3534b</td></tr><tr><td>13137805</td><td>URS0000C8778D</td><td>2017-10-19T09:48:29.434+0000</td><td>rnacen</td><td>7E6C94A1E066547B</td><td>115</td><td>TGTGTACTCCCTCCGTTCGGAATTACTTGTCATAGAAATGGATGTATCTAGACGTATTTTAGTTCTAGATACATCCATTTCCGAGACAAATAATTCCGAACGGAGAAAGTATAAG</td><td>null</td><td>f9c70bbebc0b2876a28d9c1ed2d4c5f7</td></tr><tr><td>13137806</td><td>URS0000C8778E</td><td>2017-10-19T09:48:29.434+0000</td><td>rnacen</td><td>AB8922060C6E0A51</td><td>117</td><td>GCCGGGCATGGTGGCTCATGCCTGTAATCCCAGCACTTTGGGAGGCTGAGGTGGGTGGATCATCTGAGGTCAGGAGTTCAAGACCACCCTGGCCAACATGGTGAAAACTCATCTCTA</td><td>null</td><td>f9c71de3a76d258db0bd564a209b45ae</td></tr><tr><td>13137807</td><td>URS0000C8778F</td><td>2017-10-19T09:48:29.434+0000</td><td>rnacen</td><td>FA1187ABA6247909</td><td>118</td><td>ATCGACGTCATGCCACCCTGAACAAGCCTGATCCCATCTGATCTTGGAAGCTAAGCAGGGTCATGCCTGGTTAGTACTTGGATGGGAGACCACCTAGGAAGACCAGGTGCTATAGGCA</td><td>null</td><td>f9c766f32acc1a9ed212cdd4aa82fd1c</td></tr><tr><td>13137808</td><td>URS0000C87790</td><td>2017-10-19T09:48:29.434+0000</td><td>rnacen</td><td>CCC26A1FC868D340</td><td>341</td><td>TGGTTAATGGGAAGAAGTCAGCATCTTTGGCTTCTTTTGAGGCAACTGCTGCACTTAGTACTACAGTATCTCCATAACGAACTAAAACAGCACCATTGGCTTGTTTTGCTAATTGACCGATTTCAACTGATAGTGGGTGGCCTCCCCAAGTGGTTGAAAATACTTGTTTTGTCATAATGTTTCCTTTCTTACCGGGGGACTTGCTACTAAACAAAGGGAAACGCACAAAAATTTGTTCCCTTTCCTTTGGTTAGTAGTAAGACAAAGAAACCCCAGTGATAAAAATTTCAATCAATTTTATTCGTGGGCAAAGTTTCCCACTGGATAGCTTTGTTTACGGA</td><td>null</td><td>f9c79dde2a44402fdb6ca7784cd6cfe6</td></tr><tr><td>13137809</td><td>URS0000C87791</td><td>2017-10-19T09:48:29.434+0000</td><td>rnacen</td><td>2E75D010F0517CED</td><td>182</td><td>GAAATCCTGTGATGTGCGTTATCATTAAACGTTTTGAGCCAACGTTTTTTGAACGGGAGCCAAAGGTTGCCTTTTGGATTACATGCCTAGTGAGAGCTTGGACTTAAAAAGAAGGGCACGGGGCACCCACCTGCTTGAGCAGGTTCAAAGCTTTAGTCGAACACGGCATTTACGGGATTTCT</td><td>null</td><td>f9c7a394605891f21f4b53332e76ab3e</td></tr></tbody></table></div>"
      ]
     },
     "metadata": {
      "application/vnd.databricks.v1+output": {
       "addedWidgets": {},
       "aggData": [],
       "aggError": "",
       "aggOverflow": false,
       "aggSchema": [],
       "aggSeriesLimitReached": false,
       "aggType": "",
       "arguments": {},
       "columnCustomDisplayInfos": {},
       "data": [
        [
         13137664,
         "URS0000C87700",
         "2017-10-19T09:48:29.391+0000",
         "rnacen",
         "CB4C22EE48FCACF8",
         401,
         "TCTCTAAAGATTTCCTCAGGATAGGAGGAGCTCTTAAGAGATACCCAATTTAATGTAACAAAGCAAACAATTACAGATCTTGAGGCCAAATTGATCTCAAACTATTCTCAAACTTTAAATGGTTGAAAAAAAATCTTAAATTATTGGCAAAGAGCCAGAACTATATAATTAAACTGGCACTTTAAAATGATCCAAATGCCAGGTTACAGCTTTAAATGCTGAAGATTATCAGACCTCAGTAAATGCTGAAGATTATCAGGAACAGAGACTATGAATGCCACAATCTACTAAGGAGTGATAATAAGTTTCCTAACCTATCAACTAGCTTTGAAAATACATGGCATGCTGGGCGTGGTGGCTCATCCCTGTAATCCCAGCACTCAGGAGGCTGAGGCAGGAGA",
         null,
         "f9b73ae9a16e4fc4abd1580d8f5232ba"
        ],
        [
         13137665,
         "URS0000C87701",
         "2017-10-19T09:48:29.391+0000",
         "rnacen",
         "44DFBEB9AE09D9A5",
         276,
         "CTGACATGTGTGCGAGTCAATGGGTGAGTAAACCCGTAGGGCGCAGGGAAGCTGATTGGCTGGATCCCTCACGGGTGCACACCCGACCGACCTTGATCTTCTGAGAAGGGTTCGAGTGTGAGCATGCCTGTCAGGACCCGAAAGATGGTGAACTATGCCTGAGAGAGGTGAAGCCAGAGGAAACTCTGGTGGAGGCCCGCAGCGATACTAACGTGTAAATCGTTCGTCTGACTTGGGTATAGGGGCGAAAGACTAATTGAACCATCTAGTATCTGG",
         null,
         "f9b74e50196a4de5ddcff5e25b6f7143"
        ],
        [
         13137666,
         "URS0000C87702",
         "2017-10-19T09:48:29.391+0000",
         "rnacen",
         "33D08150969C606F",
         83,
         "GACCTCGTAGCTCAGTTGGCTAGAGCGTTGGCTGTATAAATGCCTTCCACTTGCTGACGTGGGTTCGAATCCCACCGAAGCTG",
         null,
         "f9b753a0ad4a16c46b1bfd814e58e910"
        ],
        [
         13137667,
         "URS0000C87703",
         "2017-10-19T09:48:29.391+0000",
         "rnacen",
         "7421F9491FDCCF6B",
         108,
         "AATCCGTGGTGTGGACAGTCTCCCTGGAAGAACTTGAATCTGATCCACGCATCTTTGAAAGACTCTCCAGTCTCCTGCGCGAATGTAGCAATTTTGCTCCTCAAGTCT",
         null,
         "f9b7640244649c22bf58add40673cd2c"
        ],
        [
         13137668,
         "URS0000C87704",
         "2017-10-19T09:48:29.391+0000",
         "rnacen",
         "2ED895697DFBF83F",
         537,
         "TTGAAGGAAAAACAGTTTTTTTCACTGCCAGTCCAGAGTTGCCCTTGCTCATTCTAAGAACAAGTTCACTCAGAAAAACTGTAAGAAAACAGTTGGCCAGACTGTCCTTTCTGCTGGAATAGCCTCCACTGAAAACACTACTACTACTTAAAAAAACCAAACCAACAAAACCCAATGCCTTAGAGTGCACTCATTGAGAAGTCTGATACATTTTTCTGAAGAAAGCGAAGTGTTCAAAGTTGGCTCGCCAACAGTGCACTCAGTCAGGAGCAACAGAATAGGACTCTGGCTCTTTTTTTTGGTTGTTTTTTGAAAGCAGGGCCATGATTAAGAGCATTGGCTGGGATCACTCATACTGTGCCACTTGAACTGGAATTCTTGGACCAGTGCAAGATGAACTAAAGCAAAAGCATTTGCCAAGACTGTTTTCATTAATCAAAACCAAAAGCTGGAGGGTTGTGGCCAACTCACTATCAGGTGGCATTGCTCCCATCACCCACCAGGAAGATCGCAGTACACCCAAGTTTTTGGGTTCTC",
         null,
         "f9b79b7aa2a6b1f8adb6c05639fd9e2d"
        ],
        [
         13137669,
         "URS0000C87705",
         "2017-10-19T09:48:29.392+0000",
         "rnacen",
         "42DC23FFB4E5D9F2",
         71,
         "AGGGGCGTCGTTCAATGGTAGGACGGAGGTCTCCAAAACCTCTGACATAGGTTCGATTCCTATCGCCCCTG",
         null,
         "f9b7ae34ced8d8e0c238ff79984b0cdf"
        ],
        [
         13137670,
         "URS0000C87706",
         "2017-10-19T09:48:29.392+0000",
         "rnacen",
         "8C71D6D584C646A9",
         72,
         "TCCCTGATAGCTCAGTTGGTAAAGAATCTGCCTGCAATACAGGAGACCCTGGTTCAATTCCTGGATGGGGAA",
         null,
         "f9b7c687f973660c5d17050d1e03a499"
        ],
        [
         13137671,
         "URS0000C87707",
         "2017-10-19T09:48:29.392+0000",
         "rnacen",
         "16A88A97D3267D7B",
         125,
         "CATATACCCCCTCTGTCCGGAAATACTTGTCGGAGGAATAGATGTATCTAGATGTATTTTGGTTCTAGATACATTCATTTTTATCCATTTCTCCGACAAGTATTTTCGGACGGAGGGAGTACTAC",
         null,
         "f9b7d0f0ccd4e954655cc76a4e20cf19"
        ],
        [
         13137672,
         "URS0000C87708",
         "2017-10-19T09:48:29.392+0000",
         "rnacen",
         "7D0C5E535D9EF31B",
         270,
         "GGTCAGTGATGATCAGTAAAAGGTCTGATTACCCACAATCCTCTCCTGCTGCCCTCTGGCTCCCAGCAGCCCCTGCTCTGTATCCCATCATGCTCTAGTGGTGCAGTGGTGGTCCCAGGAGCTGCTGACAGACAGGATGTGACATCACAGTGAGTCTGTACAGAGATCCTACAGGCTCTGTGTGATGTCATCCAACAGAACCAATCAGCATGGAGCGTCAGGCTGAGAAGGAGGAGGAGGGAGCTGATCTCAAGTTTTCAACCTGAGACC",
         null,
         "f9b7d12c92646d2cbd367c29e294356a"
        ],
        [
         13137673,
         "URS0000C87709",
         "2017-10-19T09:48:29.392+0000",
         "rnacen",
         "B086625FD080BAE2",
         118,
         "AAGAGGGAACCCGGTGGAAGTCCGGGACTGCCCCGCAGCGGTGAGCGGGAACGACCGCCGTCACACGCACTGGCCCCGGAAGGGGGCTGGGAAGCGACGGCCACTAGGAGTCCGCCCT",
         null,
         "f9b7dc9a710087c40dbf07df63b95665"
        ],
        [
         13137674,
         "URS0000C8770A",
         "2017-10-19T09:48:29.392+0000",
         "rnacen",
         "3F51787AEACA6F2A",
         73,
         "CCTCTGGTGGTCTTGTGGCTAAGATTCTGAGTTCCCAATGCAGGGGTCCCGGGTTCAATCCCTGGTCAGGGAA",
         null,
         "f9b7f6d7635683e64524d26794af0a25"
        ],
        [
         13137675,
         "URS0000C8770B",
         "2017-10-19T09:48:29.392+0000",
         "rnacen",
         "94ADF8A5653D4F23",
         71,
         "GCGGTTATAAGTTAATGGTAAACCGAACGCCTTCCAAGCGTTTTATGTCGATTCGAATTCGGCTAACCGCA",
         null,
         "f9b84253e9b9fd20081650441410bef5"
        ],
        [
         13137676,
         "URS0000C8770C",
         "2017-10-19T09:48:29.392+0000",
         "rnacen",
         "CFD6380254AE5E20",
         107,
         "AACCCATGGTGAGGGCATCTTCTCAAAAGGTCATTGTATCTCTCACATGCATCGTAGAGTGTTTCTCAATCCATCTGTACAAAAGAAGAGATATCATTACGTAATTT",
         null,
         "f9b87f24224130025bd3df94f5dce61f"
        ],
        [
         13137677,
         "URS0000C8770D",
         "2017-10-19T09:48:29.392+0000",
         "rnacen",
         "B44671E167215BD6",
         178,
         "CAACATGACTCGGGGTGCTTGCCAGTTTTGGTCAGACAGCTTTTGGCGATTCGATGGTGTTTGCGTGATAGCGTTGAGCGTGTGTGCCATCGTATTGGGTTTAAAAGCAGCAAGCTGAGAGATACCCGTCGCACCTGATGCGGTTCGTACCGTCGTAGGGAAGTCTGGCGCGTTGTGA",
         null,
         "f9b88b50c113797e10c17376535258f0"
        ],
        [
         13137678,
         "URS0000C8770E",
         "2017-10-19T09:48:29.392+0000",
         "rnacen",
         "A4B864A51A803AFC",
         86,
         "GGTAGCGTGGCCGAGCGGTCTAAGGCGCTGGCTTAAGGCTCCAGTCTCTTCGGGGGCGGTCGTGGGTTCGAATCCCACCGCTGCCA",
         null,
         "f9b8b026ad39e65cf275da9dc680bc2b"
        ],
        [
         13137679,
         "URS0000C8770F",
         "2017-10-19T09:48:29.392+0000",
         "rnacen",
         "DEF9FBD285C8E385",
         98,
         "TAAAATTGTCATTGTAAGGGTGACGTTCGAAGTTGGTCAGGATCGGAAGATAGCAGCCATAAGAATCTAGTGCCTTGTACATTGACTTTTTTTATCTC",
         null,
         "f9b8d4d3023ff9afff162c55442679ee"
        ],
        [
         13137680,
         "URS0000C87710",
         "2017-10-19T09:48:29.392+0000",
         "rnacen",
         "D97E19753AA09D23",
         102,
         "ATCACTTCTCAACCTTTTGGCTAAGATCAAGTGTAGTATCTGTTCTTATCAGAAAATACATTTTTCTTATCCATGCATGAAATATTCTCCAAAATAATCTAT",
         null,
         "f9b8e8253fe49796112d460ba5714edd"
        ],
        [
         13137681,
         "URS0000C87711",
         "2017-10-19T09:48:29.392+0000",
         "rnacen",
         "261EF23758176B5A",
         119,
         "TAATTCAGCCATATCACCCTGCAACTCACAACTGGCAACCCACTGAAGCTAAGCAGGTGTGAGCCTGGTCAGTACCTGGATGGGAGACCTCCTGGGAAAAACTAAGGTTGCTGCTGGAA",
         null,
         "f9b8f9513976a2fbdd64917d401a815c"
        ],
        [
         13137682,
         "URS0000C87712",
         "2017-10-19T09:48:29.392+0000",
         "rnacen",
         "BF3A254213829BE9",
         73,
         "ACGTTCGTGGTGTAGTGGTCAGCACACTCGGCGCGTATTCGAGAAGTCCGTGGTTCGAATCCCGGCGAGAGCA",
         null,
         "f9b8fc9c6a68ed759a3febc025ce6e2c"
        ],
        [
         13137683,
         "URS0000C87713",
         "2017-10-19T09:48:29.392+0000",
         "rnacen",
         "8452D2FF366DC7B6",
         94,
         "GAAGATGATGATATTTATTGTCGCCCCAGTCTTACTTTGCATATATTCAATGTCTTCATGTGCAAAGTTGGTGATTGACATTCTTATCTGATTC",
         null,
         "f9b91256c4e659e9b8a0aa56be52d436"
        ],
        [
         13137684,
         "URS0000C87714",
         "2017-10-19T09:48:29.392+0000",
         "rnacen",
         "4A0759A2852303F9",
         135,
         "CATCTACTCCCTCCGTCCGAAAATACTTGTCATCAAAATGAATAAAAGGGGATGTATGTAGATGTATTTTAGTTCTAGATACATCCCTTTTTGTCCATTTTAATGACAAGTATTTCCGGACGGAGGGAGTAGCTC",
         null,
         "f9b91719c52581a5b8dc064e388a9f6d"
        ],
        [
         13137685,
         "URS0000C87715",
         "2017-10-19T09:48:29.392+0000",
         "rnacen",
         "29274A28C578B6D7",
         45,
         "ATACAGCTGACGAGTCCCAAATAGGACGAAATGCTCATTCTGGAT",
         null,
         "f9b91963b9a70567f74ed4ec8bed11bc"
        ],
        [
         13137686,
         "URS0000C87716",
         "2017-10-19T09:48:29.392+0000",
         "rnacen",
         "5AA6F4681C67BFA9",
         135,
         "AAAGTACTCCCTCCGCCCCAAAATTCTTGTCTTAGATTTGTCTAGATACAGATGTATCAAGTCACATTTTACTATTAGATACATCCGTATCTAGACAAATCTAAGAGAGGAAATTTGGGACAGAGGGAGTAGTTG",
         null,
         "f9b9698b7edb0ffd8a9fde62e7f60e16"
        ],
        [
         13137687,
         "URS0000C87717",
         "2017-10-19T09:48:29.392+0000",
         "rnacen",
         "2B921CC3096228B9",
         74,
         "GGCACCATGGCTTAGTTGGCTAAAGCACCAGCCTAGTAAGCAGGAGATCCTGGGTTCAACTCCCAGTGGTGCCT",
         null,
         "f9b99f09a4a03b71cf8753c5e92cf28f"
        ],
        [
         13137688,
         "URS0000C87718",
         "2017-10-19T09:48:29.392+0000",
         "rnacen",
         "8A30D779C082BFB1",
         136,
         "ATTCTACTCCCTTCGTTGCACAATACATGCCTTCTATTTGTCAAAATATATATGTACCTAGACATGTTTTAGTATATAGGTACATCCATTTTTGGACAAATGGAAGTCAAGGATTTTGGAACGGAGGGAGTACACA",
         null,
         "f9b9aae199f4f5a54bfb1b66113aee1b"
        ],
        [
         13137689,
         "URS0000C87719",
         "2017-10-19T09:48:29.392+0000",
         "rnacen",
         "728665D9E94A0171",
         72,
         "GAGGGTATGGCTCAGTGGTAGAGTGCATGCCTAGCATGCATGAGGTCCTAGGTTCAATCCCTCGTACTTCCA",
         null,
         "f9b9bb5524e013d6131dc1737c590d5a"
        ],
        [
         13137690,
         "URS0000C8771A",
         "2017-10-19T09:48:29.392+0000",
         "rnacen",
         "76A85A9EF81867AA",
         614,
         "GCTAAACATCAACGCAGATGCCCTAAGGTTAACTCAAAGAGAACAGAAATCTCTTGTAGACCGAAAGGAGAAAAGTTAGCATTATTCGGATTTGTATCATCAATAAGAATTGCGAAAGCATGGCCTATCGATCCTTTAAGCCCAGAAAGATTCTGGCTAGAGGTGACGGAAAAGTTACCACAGGGATAACTGGCTTGTGGCAGCCAAGCGTTCATAGCGACGTTGCTTTTTGATCCTTCGATGTCGGCTCTTCCTATCATTGAGTTGCAGAAGTCTCAAAGTGTCGGATTGTTCACCCGTTAATAGGGAACGTGAGCTGGGTTTAGACCGTCGTGAGACAGGTTAGTTTTATCCTACTTATACACGCATCAAAAGAGTTAATCAACTTAGTACGAGAGGAACCGTTGATTCAAACCGCTGGTTAAGCGTTTGACTGTAAAGTCAAAGACGCAAAGCTACGTTTGATGGATAATGACTGAACGCCTCTAAGTCAAAATCCTAACTTGTGAAAAGATGTATTAGTCAGTAAAGGTTCGATACTAATATGAAAGACTTTACGATTAAATATGATATCAAAATACGATTGATACTCAAGTAGACGTTGTACATTTGAG",
         null,
         "f9b9bed935652f9b989a572865c6c0a3"
        ],
        [
         13137731,
         "URS0000C87743",
         "2017-10-19T09:48:29.407+0000",
         "rnacen",
         "BFD35B85CD3171F0",
         103,
         "GGTGGAATTGCTGGGTAATATGGTAACTCTGTGTTTAACTTTTTGAAAAATTGCCAAGCTATTTTCCAAAGTAGATGTACCATTTTACATTCTCACCAGCAAT",
         null,
         "f9bf10948e193f95058c4344a989a801"
        ],
        [
         13137706,
         "URS0000C8772A",
         "2017-10-19T09:48:29.405+0000",
         "rnacen",
         "447D19ABF2396A47",
         204,
         "GTCACGGGAACGTTAGTAGAATCATATTGCTGCCCTACTTCCGCCCATCGCCCGCCGCGCTGCTCTGCGAAAAGAAAATCCTGCGTTGGCCCGGTCCTTTCGGTTCCGGATTCCTCAGCCCCCAGCCCCCCGGGGCCGTCGGGATCGGGCCTGTACGCAGGGGAGTTGATCCCCAACACTGGGCCAACGAAAGTTGGTCCTTTT",
         null,
         "f9bb2f4246b171488ba3ba3ab2e57a90"
        ],
        [
         13137707,
         "URS0000C8772B",
         "2017-10-19T09:48:29.406+0000",
         "rnacen",
         "11F09B1C44CB0DB0",
         104,
         "CTAATCGTAAATAAAATTTCTCGTATATCCTCGGTAATATGGTCCGAGTGTCTCTACCTAGTTCCCACGATAAGAACTGGACTACGAGTTGAAGTATTTGGTTG",
         null,
         "f9bbfcf2d14068647291fa7bdfca248a"
        ],
        [
         13137708,
         "URS0000C8772C",
         "2017-10-19T09:48:29.406+0000",
         "rnacen",
         "D6560F3C7A975199",
         72,
         "TGGGGAGTCGCCAAGTGGTAAGGCAACGGACTTTGACTCCGTCACTCGTAGGTTCGATCCCTACCTCCCCAG",
         null,
         "f9bc536531e3e8b1cb314b09cb77a893"
        ],
        [
         13137709,
         "URS0000C8772D",
         "2017-10-19T09:48:29.406+0000",
         "rnacen",
         "0A11ED440AE21BD4",
         76,
         "AAGCGAAACGTGAGGCCGCATTTTGCGACCTCACGTCTGCCGGGCGTGGCGACCCGGTACTGACGAGCAGCCATAA",
         null,
         "f9bc5c18785f30a895d2371987dafa4f"
        ],
        [
         13137710,
         "URS0000C8772E",
         "2017-10-19T09:48:29.406+0000",
         "rnacen",
         "D2A34038B709BE2D",
         73,
         "ACCTGTCTAGCTTAGTCGGTAGAGTGCAAGGCTTTTAACCTTGTGGTCATGAGTTTGAGCCCCACGGTGAGTG",
         null,
         "f9bc6595b58a792ca595246b77c74ddc"
        ],
        [
         13137711,
         "URS0000C8772F",
         "2017-10-19T09:48:29.406+0000",
         "rnacen",
         "9B9D8A07C7B10972",
         2169,
         "AACCTCGACTTCGGAAGGGGTGTATTTATTAGATAAAAAACCAATGCCCTTCGGGGCTCCTTGGTGATTCATAATAACTTAACGAATCGCATGGCCTTGTGCCGGCGATGGTTCATTCAAATTTCTGCCCTATCAACTTTCGATGGTATGGTCTTGGCTTACCATGGTTTCAACGGGTAACGGGGAATTAGGGTTCTATTCCGGAGAGGGAGCCTGAGAGACGGCTACCACATCCAAGGAAGGCAGCAGGCGCGCAAATTACCCAATCCCGACACGGGGAGGTAGTGACAATAAATACTGATACAGGGCTCTTTTGGGTCTTGTAATTGGAATGAGTACAATTTAAATCCCTTAACGAGGAACAATTGGAGGGCAAGTCTGGTGCCAGCAGCCGCGGTAATTCCAGCTCCAATAGCGTATATTAAAGTTGTTGCAGTTAAAAAGCTCGTAGTTGAACCTTGGGCCTGGCTGGCCGGTCCGCCTCACCGCGTGCACTGGTCCGGCCGGGTCTTTCCTTCTGAGGAGCCGCATGCCCTTCACTGGGTGTGTCGGGGAATCAGGACTTTTACTTTGAAAAAATTAGAGTGTTCAAAGCAGGCCTATGCTCGAATACATTAGCATGGAATAATAGAATAGGACGTGTGGTTCTATTTTGTTGGTTTCTAGGACCGCCGTAATGATTAATAGGGATAGTCGGGGGTGTCAGTATTAAATTGTCAGAGGTGAAATTCTTGGATTTATTTAAGACTAACTACTGCGAAAGCATTCACCAAGGATGTTTTCATTAATCAGTGAACGAAAGTTAGGGGATCGAAGACGATCAGATACCGTCGTAGTCTTAACCATAAACTATGCCGACTAGGGATCGGGCGATGTTATCTTTTTGACTCGCTCGGCACCTTACGAGAAATCAAAGTCTTTGGGTTCTGGGGGGAGTATGGTCGCAAGGCTGAAACTTAAAGAAATTGACGGAAGGGCACCACCAGGAGTCAAGATAGCTAAGCAGCTCTGCTCTGAAAAGCACCCCGAGAGGGTAGTGGTGTACCTGAATTTATAGTGCTAGTCAGTAATGGCAACACCCCCAAATTGCGGGGAACCCCTAATGCCCACGGTACTACACAGCGTCGAAAGGCCCTGCACGGTTACAATCCACGGGATGTTACAGTGGGTGATCCGCAGCTGTTCCCTACCGCTGAGAAGCTACGGGAATAGTTCAGAGACTAAATGGGAGTGGGAGGCAGTGCCTTTTAAGATATAGTCCGTCTGGAAGCTTACACTTGCAGAATCAACGGGAGCCTGCGGCTTAATTTGACTCAACACGGGGAAACTCACCAGGTCCAGACACAATAAGGATTGACAGATTGAGAGCTCTTTCTTGATTTTGTGGGTGGTGGTGCATGGCCGTTCTTAGTTGGTGGAGTGATTTGTCTGCTTAATTGCGATAACGAACGAGACCTTAACCTGCTAAATAGCCAGGCTAGCTTTGGCTGGTCGCCGGCTTCTTAGAGGGACTATCGGCTCAAGCCGATGGAAGTTTGAGGCAATAACAGGTTAACCTTCACAGGCCTGTGATAGGGAGGAGACTCCCCTAGTCAGTACTCAGTATTGGCAACATTCCTGGTACAGGAGACGCCGAGCCTTAGGGCCAGCCAATCCTGTGGCGAGTGAGCTATCTCACCGTCGCAACGCGCGGAAAGGAGTGGGCAGTTTAAGCTGTTTAAGGTACGTGCTAATCCACTGGGAAACCGGTCCGGTCCACTGAAGCTGCAGAGCTAAAGTGCCCTGGGAGTAGTCTACTACTTGGTCTAAATGCTGTGATGCCCTTAGATGTTCTGGGCCGCACGCGCGCTACACTGACAGAGCCAACGAGTTCCTTCCTTGACCGAAAGGTCTGGGTAATCTTGTTAAACTCTGTCGTGCTGGGGATAGAGCATTGCAATTATTGCTCTTCAACGAGGAATTCCTAGTAAGCGCAAGTCATCAGCTTGCGCTGATTACGTCCCTGCCCTTTGTACACACCGCCCGTCGCTACTACCGATTGAATGGCTCAGTGAGGCTTTCGGACTGGCCCAGATTGAGTGGCAACACTCGATTAGGGCCGGAAAGTTGTCCAAACTTGGTCATTTAGAGGAAGTAAAAGTCGTAACAAGGTTTTGCTAAGCAACAGTC",
         null,
         "f9bc83b53d6c57a6743242f860c61324"
        ],
        [
         13137712,
         "URS0000C87730",
         "2017-10-19T09:48:29.406+0000",
         "rnacen",
         "F351DAB976B8F2D5",
         3280,
         "TCGCCTCAAATCAGGTAGGACTACCCGCTGAACTTAAGCATATCAATAAGCGGAGGAAAAGAAACCAACAGGGATTGCCTCAGTAACGGCGAGTGAAGCGGCAAGAGCTCAACTTTGGAATCGCTCCGGCGAGTTGTAGTCTGGAGGTGGCCACCACGAGGTGTTCTAGCAGCAGGCAAGTCCTTTGGAACAAGGCGCCAGCGAGGGTGACAGCCCCGTACCTGCTTTTGCTAGTGCTTCCTGTGGCCCACCGACGAGTCGAGTTGTTTGGGAATGCAGCTCTAAGTGGGTGGTAAATTCCATCTAAGGCTAAATATTGGCGAGAGACCGATAGCGAACAAGTACAGTGATGGAAAGATGAAAAGCACTTTGAAAAGAGAGTGAAACAGTACGTGAAATTGTTGAAAGGGAAGGGCTTGCACCCAGACACGGTTTCGGCCGGGCCAGCATCAAGTAGAACGGGGTTAAAAGACTTGGGGAATGTAGCTACTTCGGTAGTGTTATAGCCCTTGGTGATGACCCCTGTTTTGCTTGAGGACAGCGGTCTCTAGGATGCTGGCGCAATGGTTGCAAGCCACCCGTCTTGAAACACGGACCAAGGAGTCTAACGTCTATGCGAGTGTACGGGTGAAAAACCCCTGCGCGGAATGAAAGTAAGAGGTTGGAACCCTCTCGGGGGTGCACAATCGACCGACCCAGAAGTGCTCGGACGGGTTTGAGTAGGAGCATAGCTGTTGGGACCCGAAAGATGGTGAACTATACCTGAATAGGGTGAAGCCAGAGGAAACTCTGGTGGAGGCTCGTAGCGGTTCTGACGTGCAAATCGATCGTCGAATTTGGGTATAGGGGCGAAAGACTAATCGAACCATCTAGTAGCTGGTTCCTGCCGAAGTTTCCCTCAGGATAGCAGAAGCTCGTTACAAACAGTTTTATGAGGTAAAGCGAATGATTAGAGGTCTCGGGGCTGAAATGGCCTTAGCCTATTCTCAAACTTTAAATATGTAAGAAGTCCTTGTTGCTTAATTGAACGTGGACATACGAATGTAGAGCTTTTAGTGGGCCATTTTTGGTAAGCAGAACTGGCGATGCGGGATGAACCGAACGCGAAGTTAAAGTGCCGGAATGCACGCTCATCAGACACCACAAAAGGTGTTAGTTCATCTAGACAGCCGGACGGTGGCCATGGAAGTCGGAATCCGCTAAGGAGTGTGTAACAACTCACCGGCCGAATGAACTAGCCCTGAAAATGGATGGCGCTCAAGCGTGCTACTTATACTTCGCCGGCAGCCTGTTTGCAGGTTGCCGAGTAGGCAGGCGTGGGGGTGGTGACGAAGCCTTGGCTGTGAAGCTGGGTCGAACCGCCCCTAGTGCAGATCTTGGTGGTAGTAGCAAATATTCAAACGGGAACTTTGAAGACTGAAGTGGGGAAAGGTTCCATGTCAACAGCAGATGGACATGGGTGAGTCGATCCTAACCCTCAGGTTAAACCTGATGAAAGTCGCCTCTTTGTTGAGGCCTCTGGGGAAAGGGAATCTGGTTAAAATTCCAGAACTTGGATGCGGAACTCACGGCAACGTAACTGAATGTGGAGACGCCGGCGTGGGCCCTGGGAGGAGTTTTCTTTTTCTTCTAACAGCCTGTGACCCTGGAATTGGATTATCCGGAGATGGGGTTTGTTGGCTGGAAGAGCGCGGCCTTTGTTTTGCCGCGTCCGGTGCGCCTACGACGGTCCTTGAAAATCCGCAGGAAGGAATGTTTTCGCGCCAAGTCGTACTGATAACCGCAGCAGGTCTCCAAGGTTAACAGCCTCTAGTTGATAGAACAATGTAGATAAGGGAAGTCGGCAAAATGGATCCGTAACTTCGGGATAAGGATTGGCTCTAAGGGTTGGGTGGTTTAGTGTTTCTTGCGGCAGCGGTGGTTGCCGGCCCAGGCGGCTAACCTTTCGGGGTCGGCTGCTTGGGCTGGCAACTCCGCCAAAGCTTGGAGCGCCGCCACCATTTGCAACCAACTTAGAACTGGTACGGACAAGGGGAATCTGACTGTCTAATTAAAACATAGCATTGCGATGGTCAGAAAGTGATGTTGACGCAATGTGATTTCTGCCCAGTGCTCTGAATGTCAAAGTGAAGAAATTCAACCAAGCGCGGGTAAACGGCGGGAGTAACTATGACTCTCTTAAGGTAGCCAAATGCCTCGTCATCTAATTAGTGACGCGCATGAATGGATTAACGAGATTCCCACTGTCCCTATCTACTATCTAGCGAAACCACAGCCAAGGGAACGGGCTTGGCAGAATCAGCGGGGAAAGAAGACCCTGTTGAGCTTGACTCTAGTTTGACATTGTGAAAAGACATGGAGGGTGTAGAATAAGTGGGAGCTTCGGCGCCGGTGAAATACCACTACCTCCATTGTTTTTTTACTTACTGGGTGAAGGAGAGCTGGTCGCGAGACCAATTTCTTGCTTTGCATTTTTTCTCCGTCCAAGACATTGTCAGGTGGGGAGTTTGGCTGGGGCGGCACATCTGTTAAACGATAACGCAGGTGTCCTAAGGGGGGCTCATGGAGAACAGAAATCTCCAGTGGAACAAAAGGGTAAAAGCCCCCTTGATTTTGATTTTCAGTGTGAATACAAACCATGAAAGTGTGGCCTATCGATCCTTTAGTCCCTCGGAATTTGAGGCTAGAGGTGCCAGAAAAGTTACCACAGGGATAACTGGCTTGTGGCAGTCAAGCGTTCATAGCGACATTGCTTTTTGATTCTTCGATGTCGGCTCTTCCTATCATACCGAAGCAGAATTCGGTAAGCGTTGGATTGTTCACCCACTAATAGGGAACGTGAGCTGGGTTTAGACCGTCGTGAGACAGGTTAGTTTTACCCTACTGATGGACCGTTGTTGCAATAGTAATTGAACTTAGTACGAGAGGAACCGTTCATTCAGATAATTGGTATTTGGCCCTGTCTGACCAGGCACCGGGCCGAAGCTACCATCTGCTGGATTATGGCTGAACGCCTCTAAGTCAGAATCCATGCTAGACGCGACGACAATTTTTGGCCTCGCCTGCTGCTAGTTGGATACGAATAAGCTACGGCGCGGAACCATACAAGGTGGTGTTTGCTGGGTCACGGAAAGGTGGCCTGGTGGCCACGAATTGCAATGTCACACGGGCGGGGATGGATCCTTTGCATACGACTTAGATGTGCAACGGGGTATTGTAAGCGGTAGAGTAGCCTTGTTGTTACGATCCGCTGAGATTAAGCCTCTGTTGTCGGGTTTGT",
         null,
         "f9bc87ef4ad7041bf5744c7b8bc7c505"
        ],
        [
         13137713,
         "URS0000C87731",
         "2017-10-19T09:48:29.406+0000",
         "rnacen",
         "E17677F3C999FB2B",
         56,
         "GTTGATCGTGGTCCTCGTTGGTTGTTGATGGTTGTTGATGGGCACACTGACTGACG",
         null,
         "f9bcd23d5e7879ee6204a1b404475eaa"
        ],
        [
         13137714,
         "URS0000C87732",
         "2017-10-19T09:48:29.406+0000",
         "rnacen",
         "7106F4E01C8F6BDF",
         221,
         "CATAGGAAGGATTGACAGATTGAGAGCTCTTTCTTGATTCTATGGGTGGTGGTGCATGGCCGTTCTTAGTTGGTGGAGTGATTTGTCTGGTTAATTCCGTTAACGAACGAGACCTTAACCTGCTAAATAGTTACGCTAATCTCGATTGGCGGCTAACTTCTTAGAGGGACTGTTGGTGTTCAACCAAAGTCAGGAAGGCAATAACAGGTCNNNNNNNNNNN",
         null,
         "f9bcd92a7055553c013fe5df55b142df"
        ],
        [
         13137715,
         "URS0000C87733",
         "2017-10-19T09:48:29.406+0000",
         "rnacen",
         "C89E6C39434300F3",
         74,
         "GAGGGTATAGCTCAAGTGGTAGAGTGCATGCTTAGCATGCATGAGGTCCTGGGTTCGCATCCCCAGTACTTCCT",
         null,
         "f9bce49ad544dadf8c624978d9484057"
        ],
        [
         13137716,
         "URS0000C87734",
         "2017-10-19T09:48:29.406+0000",
         "rnacen",
         "DDF191AE053F432C",
         135,
         "TTGTTACTCCCTCCGTCCAGAAATACTTGTCATCAAAATGAATAAAAGGAGATGTATCTAGATGTATTTTAGTTCTAGATACATCCCTTTTTGTCCATTTTGATGACTAGTATTTTCGGACGGAGGGAGTATATA",
         null,
         "f9bd1a81a8b41d50686333cc970ba67d"
        ],
        [
         13137717,
         "URS0000C87735",
         "2017-10-19T09:48:29.406+0000",
         "rnacen",
         "95DDC12C3577BA1D",
         119,
         "CTCTATGGCCATGCCACCCTGAACATGCCCGATCTCGTCTGATCTCGGAAGCTAACCAGGGTCGGGCCTGGTTAGTACTTGGATGGGAGACCACCTAGGAATACCAGATGCTGTAGGCG",
         null,
         "f9bd22e54f7dd77b582e37c4d1655ec7"
        ],
        [
         13137718,
         "URS0000C87736",
         "2017-10-19T09:48:29.406+0000",
         "rnacen",
         "BD9E8F4B43A58B93",
         125,
         "CATGTACTCCCTCTGTCCCGAATTACTTGTCATGGAAATGGATAAAAATGGATGTATCTAGAACTAAAATACGTCTAGATACATTCATTTCTGCGACAAGTAATTTCGGACGAAAGGAGTACTCC",
         null,
         "f9bd374a742f8c1b5ee7e38b95f7b70e"
        ],
        [
         13137719,
         "URS0000C87737",
         "2017-10-19T09:48:29.406+0000",
         "rnacen",
         "8330FC3A03DB1491",
         73,
         "TCCCTGGTGGTCCAGTGGCCAAGACTCTGCACTCCCAATGCAGGAGGCCCGGGTTTGATCCCTGGTCAGGGAA",
         null,
         "f9bd61335828947a18caead071a3ff3a"
        ],
        [
         13137720,
         "URS0000C87738",
         "2017-10-19T09:48:29.406+0000",
         "rnacen",
         "ECAF51D85299AE4F",
         142,
         "AGCCAGGAGGAGGAGGCACAGGGTTCCCCCTGAGAGCCAGGCTAGCTCTTGGTGTTGCTTTGCTGCAGGTGCCATTTGGCATTGAGGATTGTTTTTGTCTTCCTCCGGGAAAGTAGGAGGGAGAGGACACAGTCTGAGTGGT",
         null,
         "f9bd626e60d7382f2228957714480ce9"
        ],
        [
         13137721,
         "URS0000C87739",
         "2017-10-19T09:48:29.406+0000",
         "rnacen",
         "F3508EE478B60A80",
         107,
         "GTGCTCGCTTCGGCAGCACATATACTAAAATTGGAACGATACAGAGAAGATTAGCATGGACCCTGCGCAAGGATGACATGCATATTCGTGAAGCGTTCCTTTTTTTA",
         null,
         "f9bd665e9980c6e7b8513d7647520db3"
        ],
        [
         13137722,
         "URS0000C8773A",
         "2017-10-19T09:48:29.407+0000",
         "rnacen",
         "7169CD96F956781D",
         135,
         "TATATACTTCCTTCATTTTAAAATTCTTGTCTTAGATTTGTCTAAATTCGAATGTATCTAATACTAAAATATGACTTGATACATTTGTATTTGGACAAATCTAAGACAAAAATTTTGGAACGGAAAGAGTATATT",
         null,
         "f9bda842d0ebc6f43912c11e4fc2d2e3"
        ],
        [
         13137723,
         "URS0000C8773B",
         "2017-10-19T09:48:29.407+0000",
         "rnacen",
         "047AEF9CCF465618",
         72,
         "GAGGGTGTGGCTCAGTGGTAGAGCATGTGCTTAGCACGCACGAGGTCCTGGGCTCAAGCCCCCGTACCTCCA",
         null,
         "f9bdcda6e5da7e57ff4811d0a41c97eb"
        ],
        [
         13137724,
         "URS0000C8773C",
         "2017-10-19T09:48:29.407+0000",
         "rnacen",
         "9037210384127639",
         45,
         "ATCCAACTGACGAGTCCGAAATGAGACGAAATGTGCGTCCTGGAC",
         null,
         "f9be124b60001a155dddd1f53263289b"
        ],
        [
         13137725,
         "URS0000C8773D",
         "2017-10-19T09:48:29.407+0000",
         "rnacen",
         "FB90CBAFA6169662",
         197,
         "ACCAACTCCAAACAGCCTTTTGGCTTAGATCAAGTGTAGTATCTGTTCTTTTCAGTTTAATATCTGAAACGGTTCTATTTGGGACCTTCTTATATTAATCTTATTTTTGAAGCTTAGGGAATTGGCCTCTGTGCTTGCACATGTCGATACCCACTGTGTCACTGGTATTGTACTGTCTCCAGTTGATGCAACCGACG",
         null,
         "f9be1bb5fd024001c4ff694d35482657"
        ],
        [
         13137726,
         "URS0000C8773E",
         "2017-10-19T09:48:29.407+0000",
         "rnacen",
         "A17A87E178A59852",
         44,
         "CTCAGTTGATGGGTCGCAAATAAGACGAAACGCGAGTCCTAGAT",
         null,
         "f9be6a741f382b36b5739566adaa2ba5"
        ],
        [
         13137727,
         "URS0000C8773F",
         "2017-10-19T09:48:29.407+0000",
         "rnacen",
         "FD38217C192BCF4A",
         145,
         "TAATTCAAATCGCTTAATCCATTAGGAACGGGGGACCCATTTTTACGTGGATCTTTGATCCTCTTGGGGTGAATCCTTTACCAGGAAGGGATACTCTTTTGTCCCGAACCCGACAGCTAACTCCGTAAGCGTTATGAGAGGAAGG",
         null,
         "f9be8b52e4d429867735f9abff22dcf0"
        ],
        [
         13137728,
         "URS0000C87740",
         "2017-10-19T09:48:29.407+0000",
         "rnacen",
         "3B61AFB1CA1FA896",
         85,
         "ACCTGGGTGGCTCAGCCGGTTGAGCATCTGACTTCGGCTCAGGTCATGATCTCAGGGTTTGTGGGTTTGAGCCCTGCATCAGGCT",
         null,
         "f9beaad458a0c9022836ad0a892a1687"
        ],
        [
         13137729,
         "URS0000C87741",
         "2017-10-19T09:48:29.407+0000",
         "rnacen",
         "FEB59436CBA505AB",
         109,
         "GTCTATGGCCATGCTACCCTGAATAAGCCCAATCCTGTCTGATTTTGGAAGCTAAGCAGGGTCGGGTCTGATTAGTACTTGGATGGGAGACCACCAGGTGCTGTAGGCG",
         null,
         "f9becc6065132ccfcb762d628239dd1d"
        ],
        [
         13137738,
         "URS0000C8774A",
         "2017-10-19T09:48:29.412+0000",
         "rnacen",
         "3527903CF983113B",
         599,
         "GAGTTTGATCCTGGCTCAGAAGGAACGCTAGCTATATGCTTAACACATGCAAGTCGAACATTGTTTTCGGGGAGCTGGGCAGAAGGAAAAGAGGCTCCTAGCTAAAGTTGTCTCGCCCTGCTTCAAAACTATAGGGCGCGCGCTACGGATTTGACCTAACGGCCTCCGTTTGCTGGAATCAGAATAGTTGAGAACAAAGTGGCGAATGGGTGCATAACACGTGGGAATCTGCCGAACAGTTCAGGCCAAATCCTGAAGAAAGCTCAAAAGCGCTGTTTGATGAGCCTGCGTAGTATTAGGTAGTTGGTCAGGTAAAGGCTGACCAAGCCAATGATGCTTAGCTGGTCTTTTCGGATGATCAGTCACATTGGGACTGAGACACGGCCCCGACTCCCACGGGGGCAGCAGTGGGGAATCTAGGACAATGCATTTAGAATTCTAATAAAACGAAGAGGCTATCGAACAAATAGAGGAAATGGCAGAAAGGGGGAAAGTAAATTCCTATTACATTGGCATATGGCACGAAAAGGAAATCCAATTTCAGTAAGACTTGATCTATCGTCAGATTATGGTTTTTATCAATGGGGGGGGGGCTTTTC",
         null,
         "f9c0768b9be512bcbf492131e3de094d"
        ],
        [
         13137739,
         "URS0000C8774B",
         "2017-10-19T09:48:29.412+0000",
         "rnacen",
         "E2A986E30DBD9326",
         73,
         "GTCCCCATCGTCTAGAGGCCTAGGACACCGCCCTTTCACGGCGGCAACGCGGGTTCGAATCCCGCTGGGGACG",
         null,
         "f9c083537a0d52e144fb8251dd3f8e59"
        ],
        [
         13137740,
         "URS0000C8774C",
         "2017-10-19T09:48:29.412+0000",
         "rnacen",
         "B84CFA454D566F95",
         46,
         "GCACTGCTGAGGAGTCTCACAATAAAACGAAACGGCCGTCCAGTGC",
         null,
         "f9c0913ac5ed1e2ef1ea137c309f0ce6"
        ],
        [
         13137741,
         "URS0000C8774D",
         "2017-10-19T09:48:29.413+0000",
         "rnacen",
         "8DD847BB9AEB5069",
         381,
         "GGGGTCGATGTGGTTTCGACTTTGTGCATTGAGCCAGGGGAAGCGTGCCGGTGAAGGCAGAGGACCACCGTATAAGCGTCGCTGCAACTTTATAAGCGCCGAGAACACTCAGCGCGACTACGCCCTCGCTGCCTAATACCAGCGACCGCGTGTCTGTCAGCCCGGGTTTGTCCCTGACCCGGTAGCTGGCATCGACTCAAGGGACTTGCCACTCGGCTTTGTTGTTCGGGCCGAGTGGGACACCCTACGAGCAACTGGGCCCGTCATTCAGACTTGTTCGCAAGAGCTGAAGGGTCGAGCAGAGACCATGTGCGAACTGCGCACGGAGAAGCCCTGGCGAGGTCGCAAAGGACCCGGGTTCAATTCCCGGCGGCTCCACCA",
         null,
         "f9c09d040e49ec6eb97a54fd51aaae65"
        ],
        [
         13137742,
         "URS0000C8774E",
         "2017-10-19T09:48:29.413+0000",
         "rnacen",
         "F0FD703994702C00",
         72,
         "TCCCTGGTGGCTCAGAGGTTAAAGCATCTGCCTGGAATGCGGGAGACCCAGGTTTGATCCCTGGGTTGGGAA",
         null,
         "f9c0a00c5cb37ef12a0af69bb2d56275"
        ],
        [
         13137743,
         "URS0000C8774F",
         "2017-10-19T09:48:29.413+0000",
         "rnacen",
         "34C5CA252D3C19D4",
         72,
         "GAGGGTATAGCTCAGTGGTAGAGCACATGCTTAGCATGCGCGAGATCCTGGGTTCAATCCCCAGGTCCACCA",
         null,
         "f9c0a4a34ef6d576f890b22d900c68a4"
        ],
        [
         13137744,
         "URS0000C87750",
         "2017-10-19T09:48:29.413+0000",
         "rnacen",
         "0AC0AA8D321D444F",
         72,
         "GTGGGTATAGCTCAGGGGTAGAGCATGTGCTTGGCGTGCACGAAGTCCTGGTTTCAGTCCCCAGTACCTCCG",
         null,
         "f9c0b9e4986dfbdd2d8fd783a1e274c3"
        ],
        [
         13137745,
         "URS0000C87751",
         "2017-10-19T09:48:29.413+0000",
         "rnacen",
         "EAE58B8577539644",
         115,
         "CTTCTACTCCCTCCGTTCCGAATTACTTGTCAGAGGTATGGATGTATCTAGATGTATTTTAGTTCTAGATACATCCATTTCTGCGACGAGTAATTTGGAACGGAGGGAGTAACCA",
         null,
         "f9c0c5570a4b2b5eafcda5d31ddd7596"
        ],
        [
         13137746,
         "URS0000C87752",
         "2017-10-19T09:48:29.413+0000",
         "rnacen",
         "212AADC67A204A37",
         87,
         "GCTGGTGTAAGTGATGACTTTTTTCCCCAACGGAACGACAGTGTTGATTTCTTGCTGTTCAAGCCAGGTCATGTCTGATGCACCAGC",
         null,
         "f9c0ce3f979bf8359887e8f826a4dc7e"
        ],
        [
         13137747,
         "URS0000C87753",
         "2017-10-19T09:48:29.413+0000",
         "rnacen",
         "EF1A1A2742F31C55",
         135,
         "CATGTACTTCCTCCGTTCCGAATTACTTGTCTTAGATTTGTCTAGATACGGATGTATCTAGACTCATTTTAGTGCTAGATACCTCCGTATCTAGACAAATCGAAGACAAGTAATTCGGAACGGAGGGAGTAGTAA",
         null,
         "f9c0f82827e51e0283fe198014cee7eb"
        ],
        [
         13137748,
         "URS0000C87754",
         "2017-10-19T09:48:29.413+0000",
         "rnacen",
         "E5CC814DEC2674D3",
         73,
         "AGCGGTCTGGTCTAGCGGTCAGAACGCTGGCCTTGTAAGCCTGGGGTCCCGGGTTCAATTCCCGGTGGTGCTC",
         null,
         "f9c10d64be527c1130c04df063bd2c46"
        ],
        [
         13137749,
         "URS0000C87755",
         "2017-10-19T09:48:29.413+0000",
         "rnacen",
         "41638722BDB81324",
         116,
         "GGTCACGAGATTCAGCGCCAAGCCCCGGCTCGCTGGACGGCAACCCTCCCTCGCGGCGGGGTGCTCCGGGTGATGACCTGGTGACGACCAGCGCCGGTCCGTCGCAAGCGCGAGGC",
         null,
         "f9c10e3b01a1a31a123a6fde3c922489"
        ],
        [
         13137750,
         "URS0000C87756",
         "2017-10-19T09:48:29.413+0000",
         "rnacen",
         "1F01A7939AF86162",
         119,
         "GTCTACGGCCATGCCACCCTGAACAAGCCCAACCCCGTCTGATCTCGGAAGCTCAGCAGGGTCGGGCATAGTTAGTACTTGGATGGGAGATCACCTAGGAAGACCAGGTGCTGTAGGCT",
         null,
         "f9c122d2b907af98d5790fc716a02162"
        ],
        [
         13137751,
         "URS0000C87757",
         "2017-10-19T09:48:29.413+0000",
         "rnacen",
         "1C761FD0E9C073B5",
         48,
         "ATCCAACTGACGAGTCTCAAATAGGATGAAACGCCAGTCCAACTGGAT",
         null,
         "f9c128e2ee3dbea46e0319d15a2154d7"
        ],
        [
         13137752,
         "URS0000C87758",
         "2017-10-19T09:48:29.413+0000",
         "rnacen",
         "F513F79E11062EC4",
         189,
         "GGAAACCTGGAAACTACCGTTGGATCGAAAAATAGACGTCTAAGATTTGTCCATGTCACCATGAGTAAAATTTTGCTCCTAGTAAACTTTTTACTCATGAGTCAACTTACAAGTAAAATTTTTACTCGTGATTACGTGGACGAATATCAGACATCTATTTTTCGATCCAACGGTAGTTTCCAGGTTTCC",
         null,
         "f9c1843f9f08b2af08a61449c619e708"
        ],
        [
         13137753,
         "URS0000C87759",
         "2017-10-19T09:48:29.413+0000",
         "rnacen",
         "2EB952F9C57B3DD7",
         45,
         "ATTCAGCTGACGAGTCCCAAATAGGACGAAACGCACGTTCTGTAT",
         null,
         "f9c1976e4920160c9d84a9fcbefa1085"
        ],
        [
         13137754,
         "URS0000C8775A",
         "2017-10-19T09:48:29.413+0000",
         "rnacen",
         "CF4810CF2365AEA8",
         108,
         "GTTTGCATGATGAGAAACCTTTTTTTAACAGTTATCCCTGTCTGAATGGGGCAAACATCAAAGCTAACGCACCATGTGTCGAGAATTTTTTTATACTCTGAGTCTTAC",
         null,
         "f9c1b31d3ff16a143b4abe5dbc5edc04"
        ],
        [
         13137755,
         "URS0000C8775B",
         "2017-10-19T09:48:29.413+0000",
         "rnacen",
         "E4BDD97EDC20E87B",
         72,
         "GCGGCAATAGCTCAGTGGCAGAGCCCCCGCTTCGCATGCGGGGAGACCCGGCTTCGATTCCCGGCTGCTTCC",
         null,
         "f9c1d92b41d8a3b417833d2781a49ede"
        ],
        [
         13137756,
         "URS0000C8775C",
         "2017-10-19T09:48:29.413+0000",
         "rnacen",
         "533D97C6E06923D0",
         514,
         "CGGTGAAGATGCCGGATTACCCGCAACGGGACGGAAAGACCCCATGCACCTTTACTATAGCTTAACATTGAAATTGGGTACAGGATGTGTAGGATAGGCGGGAGATTTTGAAGCGGCTTCGCCAGGAGTCGTGGAATCAACCTTGAAATACCGCCCTTTCTGTATCCGGTTTCTAATCCCGCTATGCGGAGGACACTGCGTGGTGGGTAGTTTGACTGGGGTGGTCGCCTCCAAAAAGGTAACGGAGGCTTTCAAAGGTAAGCTCAGTACGCTTGGTAACCGTACGGGGAGTGCAATGGCATAAGCTTGCTTGACTGTGAGACCAACAAGTCGACCAGGGTCGAAAGACGGATATAGTGATCCGGTGGTTCTGATGGAAGGGCCATCGCTCAAAGGATAAAAGGTACGCTGGGGATAACAGGCTGATCTCCCCCAAGAGCTCATATCGACGGGGAGGTTTGGCACCTCGATGTCGGCTCGTCACATCCTGGGGCTGGAGAAGGTCCCAAGGGTT",
         null,
         "f9c202a017df19c9add27eccc2e86066"
        ],
        [
         13137757,
         "URS0000C8775D",
         "2017-10-19T09:48:29.413+0000",
         "rnacen",
         "9F268C796DE8EE98",
         397,
         "GGGCTTGACTGGATTTGACAGCGGGTAGAAATAGTAAGTAAGCATGCAGTGCGTCGTTGATTTGCACTTTAATCTCAGTCCTCAAAATTTTATCTGGCGAAAGACAATACGCTCTTGCTGCTTAATCGAATCACAGTAGATTAGCTTAATCCCGGTACTAGGTGCTGGGACGAGACATCACTCGGAAGCTGTTGCTCCGAAGCATTCCGATCCAGTGGTGCAGTTACATCGGGGATAGTTCTTGTCGGCCTTGAGGCGAGAATGAAACTTTAAAGGATAAGGCAATGGTTGATGGCTTTGGTTCTGCCGTTGCTCGAAAACTTAGGCAAAGATAAGCATGTAGAAAGCTTATGATTTCCTCGTTTGGACGAGGGTTCGATTCCCTCCAGGTCCACCA",
         null,
         "f9c21273aa41905f5e6f77b71516627d"
        ],
        [
         13137758,
         "URS0000C8775E",
         "2017-10-19T09:48:29.413+0000",
         "rnacen",
         "9F9A769AAF282ADF",
         71,
         "CCCTGATGGTTCAAATGGTAAAGAATCCACCTGCAATGTAGGAGACCCAGGTTCCATCCCTGGATTGGGAA",
         null,
         "f9c23137836b6e012ebf41bca82abcac"
        ],
        [
         13137759,
         "URS0000C8775F",
         "2017-10-19T09:48:29.413+0000",
         "rnacen",
         "B52D22C7C8829AD1",
         73,
         "ACCTGGCTGGTTCAGTCAGTACAGCATGTGACTCCTGATCTCAGGGTCGTGAGTTTGAGCCTCACGTTGGGCA",
         null,
         "f9c24242fee391f8ad3a1525d811645a"
        ],
        [
         13137760,
         "URS0000C87760",
         "2017-10-19T09:48:29.413+0000",
         "rnacen",
         "D845A60E513093B8",
         45,
         "ATCCAGCTGAAAAGTTCCAAACAGGACGAAACGTGCATCGTGGAT",
         null,
         "f9c24bd5600d929746e44a2a37dfde8a"
        ],
        [
         13137761,
         "URS0000C87761",
         "2017-10-19T09:48:29.414+0000",
         "rnacen",
         "641A2F534E944259",
         78,
         "GATTGCAGGCTGCAACTCGCCTGCATGAAGCCGGAATCGCTAGTAATCGCCGGTCAGCCATACGGCGGTGAATATATT",
         null,
         "f9c24e01eeba853dc939950c41f7a0a0"
        ],
        [
         13137762,
         "URS0000C87762",
         "2017-10-19T09:48:29.414+0000",
         "rnacen",
         "F27C9324396D1025",
         73,
         "GCCTTCTTAGCTCAGTTGGCAGAGCGCGTGCCTAGTAAGCATGAGGTCAGGTGTTCGAATCTCCTAGAAGGCA",
         null,
         "f9c2a71d494c0315cb7f2d2ef3e41139"
        ],
        [
         13137763,
         "URS0000C87763",
         "2017-10-19T09:48:29.414+0000",
         "rnacen",
         "9E1F16B9631E2070",
         85,
         "GCCTGGGTGGCTCAGTCGGTTGAGTGTCTGACTTCAGCTCAGGTCACGATCTCACAGTCCGTGGGCTCGAGCCCCGCGTCGGGCT",
         null,
         "f9c2d6c32292be79df4263f115211860"
        ],
        [
         13137764,
         "URS0000C87764",
         "2017-10-19T09:48:29.414+0000",
         "rnacen",
         "5E121EC771BC8DD9",
         48,
         "ATCCATCTGACAAGTCCCAAATAGGACGAAACGAGCTTCAAACTGGAT",
         null,
         "f9c2e0f0131713c3fbd94d8f37b879d4"
        ],
        [
         13137765,
         "URS0000C87765",
         "2017-10-19T09:48:29.414+0000",
         "rnacen",
         "82AE36DE9A3C91B8",
         119,
         "ATCTACGGCCATAGAACCCAAAAAGCACCGCATCCCGTCCGCTCTGCGCAGTTAACTTGGGTATCGCTCGGTTAGTACCAAGGTGGGGGACCACTTGGGAATCCCGGGTGCTGTAGTTT",
         null,
         "f9c2e708721d9bd60867018975fd65c3"
        ],
        [
         13137766,
         "URS0000C87766",
         "2017-10-19T09:48:29.414+0000",
         "rnacen",
         "40A179923CDDAF1D",
         69,
         "TCCACTAGTTAGTTGGTAGAGCACAAAGCTCTTAACCTTGTGGACGTGGGTTCAAGCCCCATGGTGGAG",
         null,
         "f9c300a2f1aaea2c65676603ed6c0156"
        ],
        [
         13137767,
         "URS0000C87767",
         "2017-10-19T09:48:29.414+0000",
         "rnacen",
         "03348FF438CB5EE2",
         88,
         "GCCCGGATGGTGAAATTGGTAGACACAGCGGACTTAAAATCCGTCGCCGTTGAAGGACGGCATACCGGTTCGACCCCGGTTCCGGGCA",
         null,
         "f9c3029772d300256e5215f9ad85e78c"
        ],
        [
         13137792,
         "URS0000C87780",
         "2017-10-19T09:48:29.433+0000",
         "rnacen",
         "95AF1558427DCE8A",
         196,
         "AACACCAGAAGAGGTTGCATTAGCCAGGTAGGTAATTTGAGGGGCCACACCCCAAAGACAATTATTGAGGGGGACTAATGCCGAGAATGAACGCGAATAGCCAATTTTTAATAAATTACTAGGTGGAAAGCGTCATTCGGTCATAACGGTTGAATCCTTATGACTGTCACCGAAACGGTGGAGAGCTTCTGGCTGA",
         null,
         "f9c6799020be741b2293029ab7011ee0"
        ],
        [
         13137793,
         "URS0000C87781",
         "2017-10-19T09:48:29.433+0000",
         "rnacen",
         "63F965F2847A1DCF",
         71,
         "GGGAGAATGATCTTGTGGTTGAGGCACTGGACTAGGATTCAGAGATCTGGGTTTAATTCCTGGTTCTGCCA",
         null,
         "f9c682753c738da5ddee827283aeaaf1"
        ],
        [
         13137794,
         "URS0000C87782",
         "2017-10-19T09:48:29.433+0000",
         "rnacen",
         "A48C4BCEEE07BDFF",
         75,
         "GCGCCGGTGGTGTAATGGCGTAGAGCACTCCCGTCCGATCAGCGGGAAGTGCGGGTTCGAGTCCCGCCTGGCGCT",
         null,
         "f9c68ca3d2232d783d56f58bd61bffcf"
        ],
        [
         13137795,
         "URS0000C87783",
         "2017-10-19T09:48:29.433+0000",
         "rnacen",
         "088DDD6CA5D99B36",
         73,
         "GCCTTCGTGGTGTAGTGGTCTGCATCCTCGACGCGTAACCGAGAGGTCCGTGGTTCGATTCCCGGCGAAGGCG",
         null,
         "f9c6a138276b129949e2ffae2f6133d2"
        ],
        [
         13137796,
         "URS0000C87784",
         "2017-10-19T09:48:29.433+0000",
         "rnacen",
         "7128BB766303061F",
         115,
         "AAAGTACTCCCTTCGTTCAGAATTACTTGTCACAAAAATGGATGTATCTACAACTAAAATATATATAGATACATTCATTTTTTGGACGAGTAATTTCGAACAGAGGAAGTACAAT",
         null,
         "f9c6ac812e9a7e3e6e45f2ec6f3c62f7"
        ],
        [
         13137797,
         "URS0000C87785",
         "2017-10-19T09:48:29.433+0000",
         "rnacen",
         "C67F6FA3126486CA",
         127,
         "AGGTCATCCAACGACGCACTCCTCCTCCCAGCGAAGTTGGATAGAGATCGGCAATATCCTCCTCCTCCCAATTGCCGATCAAGTTTAAAAAGCCTGGCGCCTCCTCCTCCCGCGCCAGGCTTTTTTG",
         null,
         "f9c6b287ee2ad26303ad3261a25b0f22"
        ],
        [
         13137798,
         "URS0000C87786",
         "2017-10-19T09:48:29.433+0000",
         "rnacen",
         "F04DB761484AA87C",
         134,
         "ATTATACTCCCTCTGTCCGAAAATACTTGTCATCAAAATGGACAAAACGGGATGTATCTAAAACTAAAATACATCTAGATACATCCCTTTTATCCATTTTGATGACAAGTATTTACGGACGGAGGGAGTATATA",
         null,
         "f9c6d93daadc4f7172af0678fd816f5a"
        ],
        [
         13137799,
         "URS0000C87787",
         "2017-10-19T09:48:29.433+0000",
         "rnacen",
         "59F878ACC78E596D",
         74,
         "GCTGGAATAGCTTAGTTGGCTAGAGTGTGTGGTTGTTAACCACAAGGTCGGAGGTTCAAGCCCTCCTTCTAGCG",
         null,
         "f9c6de3fabdf426e8fee706003bd28c2"
        ],
        [
         13137800,
         "URS0000C87788",
         "2017-10-19T09:48:29.433+0000",
         "rnacen",
         "29F2B0EB903D58B2",
         435,
         "TTAGAGGGACAAGCATTACGAATGTGCACGAAATTGAGCAATAACAGGTCTGTGATGCCCATAGATCTCCGGGGCCGCACGCGCGCTACAATGACGGTACCAAAGAGTCTGACCTTTTGGCCCGAAAGGGTTGGGCAAACTGGTCAATCGCCATCATGACAGGGATCGGGGCTTGGAATTGTTCCCCGTGAACGAGGAATTCCTAGTATGTGCAAGTAATAAGCTTGCGCTGATTACGTCCCTGTCCTTTGAACACACCGCCCGTTGATACTAATGGTTGAATGGTTTAGTAAGGTCCTCGGATTGGCGCCATTGCAGTGCAAGCCGCAAGGTTGGTGCTCGACAGGTGCCGAGAATGTGACCAAATTTGATCATTTAGAAGAAGTAAAAGTAGTAACAAGGTTTTACGGAGGTGAACCTGCGAAAGGATCATTA",
         null,
         "f9c6e0a8aad953180579e8a9b42203b7"
        ],
        [
         13137801,
         "URS0000C87789",
         "2017-10-19T09:48:29.433+0000",
         "rnacen",
         "5A1B03552C165BC7",
         289,
         "CTGGTCGATCAGGGTCGGCGAGATGAAGTGGACGTGCGCGTCGACGGCTCCGGCGGTGAGGATCTTCCCGTTGCCCGCGATGATCTCGGTCTCGGGTCCGATGACGAGGTCGGGGTGGACGCCGTCCATGGTGTCCGGGTTGCCGGCCTTGCCGATGCCGGTGATCCGGCCGTCCCGGATGCCGATGTCGGCCTTGACGACGCCCCAGTGGTCGATGACGACGGCGCCGGTGATCACGGTGTCGGGCGCGCCTTCGGCCCGGGTCGTACGGGACTGGCCCATCGACTCG",
         null,
         "f9c6e885cbed804ce0f319f5cc5b1a66"
        ],
        [
         13137802,
         "URS0000C8778A",
         "2017-10-19T09:48:29.433+0000",
         "rnacen",
         "DEC1D4B52DF24369",
         81,
         "GGCCTCGTAGCTCAGTTGGTTAGAGCATTGGCTGTATTAAAGCCTTCCCCGTTGGCGTGGATTCGAACCCCACTGAGACCG",
         null,
         "f9c6f22b461ae077520454a05ad8e711"
        ],
        [
         13137803,
         "URS0000C8778B",
         "2017-10-19T09:48:29.433+0000",
         "rnacen",
         "D85F08ABF9523244",
         83,
         "GCGGGCGTGGTGGAACGGTAGACACATGGCACTTAAACTGCCTGGGGCGAAAGCCCGTGCCGGTTCGAATCCGGCCGCCCGCA",
         null,
         "f9c700f264c65583cae8542f703e7303"
        ],
        [
         13137804,
         "URS0000C8778C",
         "2017-10-19T09:48:29.433+0000",
         "rnacen",
         "FFD8A4F2A1186FDE",
         128,
         "GTGTTGTATGAAAGGAGAGAAGGTTAGCACTCCCCTTGATAAGGATGGAAGAGGCCCTAGTGGCCTGTACAACACGCATACGGTTAAGGCACTGCCACCTACTTAGTGGCATCTAACCATGTTTTAGC",
         null,
         "f9c705fdb36f9cf5a3aabee0a4b3534b"
        ],
        [
         13137805,
         "URS0000C8778D",
         "2017-10-19T09:48:29.434+0000",
         "rnacen",
         "7E6C94A1E066547B",
         115,
         "TGTGTACTCCCTCCGTTCGGAATTACTTGTCATAGAAATGGATGTATCTAGACGTATTTTAGTTCTAGATACATCCATTTCCGAGACAAATAATTCCGAACGGAGAAAGTATAAG",
         null,
         "f9c70bbebc0b2876a28d9c1ed2d4c5f7"
        ],
        [
         13137806,
         "URS0000C8778E",
         "2017-10-19T09:48:29.434+0000",
         "rnacen",
         "AB8922060C6E0A51",
         117,
         "GCCGGGCATGGTGGCTCATGCCTGTAATCCCAGCACTTTGGGAGGCTGAGGTGGGTGGATCATCTGAGGTCAGGAGTTCAAGACCACCCTGGCCAACATGGTGAAAACTCATCTCTA",
         null,
         "f9c71de3a76d258db0bd564a209b45ae"
        ],
        [
         13137807,
         "URS0000C8778F",
         "2017-10-19T09:48:29.434+0000",
         "rnacen",
         "FA1187ABA6247909",
         118,
         "ATCGACGTCATGCCACCCTGAACAAGCCTGATCCCATCTGATCTTGGAAGCTAAGCAGGGTCATGCCTGGTTAGTACTTGGATGGGAGACCACCTAGGAAGACCAGGTGCTATAGGCA",
         null,
         "f9c766f32acc1a9ed212cdd4aa82fd1c"
        ],
        [
         13137808,
         "URS0000C87790",
         "2017-10-19T09:48:29.434+0000",
         "rnacen",
         "CCC26A1FC868D340",
         341,
         "TGGTTAATGGGAAGAAGTCAGCATCTTTGGCTTCTTTTGAGGCAACTGCTGCACTTAGTACTACAGTATCTCCATAACGAACTAAAACAGCACCATTGGCTTGTTTTGCTAATTGACCGATTTCAACTGATAGTGGGTGGCCTCCCCAAGTGGTTGAAAATACTTGTTTTGTCATAATGTTTCCTTTCTTACCGGGGGACTTGCTACTAAACAAAGGGAAACGCACAAAAATTTGTTCCCTTTCCTTTGGTTAGTAGTAAGACAAAGAAACCCCAGTGATAAAAATTTCAATCAATTTTATTCGTGGGCAAAGTTTCCCACTGGATAGCTTTGTTTACGGA",
         null,
         "f9c79dde2a44402fdb6ca7784cd6cfe6"
        ],
        [
         13137809,
         "URS0000C87791",
         "2017-10-19T09:48:29.434+0000",
         "rnacen",
         "2E75D010F0517CED",
         182,
         "GAAATCCTGTGATGTGCGTTATCATTAAACGTTTTGAGCCAACGTTTTTTGAACGGGAGCCAAAGGTTGCCTTTTGGATTACATGCCTAGTGAGAGCTTGGACTTAAAAAGAAGGGCACGGGGCACCCACCTGCTTGAGCAGGTTCAAAGCTTTAGTCGAACACGGCATTTACGGGATTTCT",
         null,
         "f9c7a394605891f21f4b53332e76ab3e"
        ]
       ],
       "datasetInfos": [],
       "dbfsResultPath": null,
       "isJsonSchema": true,
       "metadata": {},
       "overflow": false,
       "plotOptions": {
        "customPlotOptions": {},
        "displayType": "table",
        "pivotAggregation": null,
        "pivotColumns": null,
        "xColumns": null,
        "yColumns": null
       },
       "removedWidgets": [],
       "schema": [
        {
         "metadata": "{\"scale\":0}",
         "name": "id",
         "type": "\"long\""
        },
        {
         "metadata": "{\"scale\":0}",
         "name": "upi",
         "type": "\"string\""
        },
        {
         "metadata": "{\"scale\":6}",
         "name": "timestamp",
         "type": "\"timestamp\""
        },
        {
         "metadata": "{\"scale\":0}",
         "name": "userstamp",
         "type": "\"string\""
        },
        {
         "metadata": "{\"scale\":0}",
         "name": "crc64",
         "type": "\"string\""
        },
        {
         "metadata": "{\"scale\":0}",
         "name": "len",
         "type": "\"integer\""
        },
        {
         "metadata": "{\"scale\":0}",
         "name": "seq_short",
         "type": "\"string\""
        },
        {
         "metadata": "{\"scale\":0}",
         "name": "seq_long",
         "type": "\"string\""
        },
        {
         "metadata": "{\"scale\":0}",
         "name": "md5",
         "type": "\"string\""
        }
       ],
       "type": "table"
      }
     },
     "output_type": "display_data"
    }
   ],
   "source": [
    "# Write your solution here\n",
    "query = \"(select * from rna limit 100) as rna_alias\"\n",
    "\n",
    "df = (spark.read\n",
    "  .format(\"jdbc\")\n",
    "  .option(\"url\", \"jdbc:postgresql://hh-pgsql-public.ebi.ac.uk:5432/pfmegrnargs\")\n",
    "  .option(\"dbtable\", query)\n",
    "  .option(\"user\", \"reader\")\n",
    "  .option(\"password\", \"NWDMCE5xdipIjRrp\")\n",
    "  .option(\"fetchSize\", \"100\")\n",
    "  .load()\n",
    ")\n",
    "\n",
    "df.write.format(\"delta\").mode(\"overwrite\").saveAsTable(\"rna_100_records\")\n",
    "#display(df.select(\"*\"))"
   ]
  }
 ],
 "metadata": {
  "application/vnd.databricks.v1+notebook": {
   "computePreferences": null,
   "dashboards": [],
   "environmentMetadata": null,
   "language": "python",
   "notebookMetadata": {
    "mostRecentlyExecutedCommandWithImplicitDF": {
     "commandId": -1,
     "dataframes": [
      "_sqldf"
     ]
    },
    "pythonIndentUnit": 4
   },
   "notebookName": "2 - Spark ETL Jobs Exercieses",
   "widgets": {}
  },
  "kernelspec": {
   "display_name": "Python 3 (ipykernel)",
   "language": "python",
   "name": "python3"
  },
  "language_info": {
   "codemirror_mode": {
    "name": "ipython",
    "version": 3
   },
   "file_extension": ".py",
   "mimetype": "text/x-python",
   "name": "python",
   "nbconvert_exporter": "python",
   "pygments_lexer": "ipython3",
   "version": "3.10.9"
  }
 },
 "nbformat": 4,
 "nbformat_minor": 0
}
